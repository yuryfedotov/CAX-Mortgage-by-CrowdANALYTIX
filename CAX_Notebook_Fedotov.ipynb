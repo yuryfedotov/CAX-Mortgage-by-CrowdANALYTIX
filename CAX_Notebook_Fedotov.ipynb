{
 "cells": [
  {
   "cell_type": "markdown",
   "metadata": {},
   "source": [
    "# CAX Mortgage by CrowdANALYTIX: Yury Fedotov's solution\n",
    "## The first overview of the data\n",
    "Before reading this notebook for the first time, I strongly recommend you to read Readme in the core directory. It gives concise introduction to the objectives of this code, to the datasets used, and also my takeaways from participating in this ML competition."
   ]
  },
  {
   "cell_type": "code",
   "execution_count": 42,
   "metadata": {},
   "outputs": [
    {
     "name": "stdout",
     "output_type": "stream",
     "text": [
      "Train data sample:\n"
     ]
    },
    {
     "data": {
      "text/html": [
       "<div>\n",
       "<style scoped>\n",
       "    .dataframe tbody tr th:only-of-type {\n",
       "        vertical-align: middle;\n",
       "    }\n",
       "\n",
       "    .dataframe tbody tr th {\n",
       "        vertical-align: top;\n",
       "    }\n",
       "\n",
       "    .dataframe thead th {\n",
       "        text-align: right;\n",
       "    }\n",
       "</style>\n",
       "<table border=\"1\" class=\"dataframe\">\n",
       "  <thead>\n",
       "    <tr style=\"text-align: right;\">\n",
       "      <th></th>\n",
       "      <th>Unique_ID</th>\n",
       "      <th>MORTGAGE NUMBER</th>\n",
       "      <th>PROPERTY VALUE</th>\n",
       "      <th>MORTGAGE PAYMENT</th>\n",
       "      <th>GDS</th>\n",
       "      <th>LTV</th>\n",
       "      <th>TDS</th>\n",
       "      <th>AMORTIZATION</th>\n",
       "      <th>MORTGAGE AMOUNT</th>\n",
       "      <th>RATE</th>\n",
       "      <th>...</th>\n",
       "      <th>PROPERTY TYPE</th>\n",
       "      <th>TERM</th>\n",
       "      <th>FSA</th>\n",
       "      <th>AGE RANGE</th>\n",
       "      <th>GENDER</th>\n",
       "      <th>INCOME</th>\n",
       "      <th>INCOME TYPE</th>\n",
       "      <th>NAICS CODE</th>\n",
       "      <th>CREDIT SCORE</th>\n",
       "      <th>RESULT</th>\n",
       "    </tr>\n",
       "  </thead>\n",
       "  <tbody>\n",
       "    <tr>\n",
       "      <th>23354</th>\n",
       "      <td>CAX_Train_23355</td>\n",
       "      <td>23355</td>\n",
       "      <td>411000</td>\n",
       "      <td>1770</td>\n",
       "      <td>27.69</td>\n",
       "      <td>80.00</td>\n",
       "      <td>39.57</td>\n",
       "      <td>360</td>\n",
       "      <td>328792.0</td>\n",
       "      <td>4.00</td>\n",
       "      <td>...</td>\n",
       "      <td>Single Detached</td>\n",
       "      <td>12</td>\n",
       "      <td>L7A</td>\n",
       "      <td>35-39</td>\n",
       "      <td>Female</td>\n",
       "      <td>240000</td>\n",
       "      <td>5</td>\n",
       "      <td>61</td>\n",
       "      <td>680</td>\n",
       "      <td>FUNDED</td>\n",
       "    </tr>\n",
       "    <tr>\n",
       "      <th>10418</th>\n",
       "      <td>CAX_Train_10419</td>\n",
       "      <td>10419</td>\n",
       "      <td>600000</td>\n",
       "      <td>3512</td>\n",
       "      <td>29.30</td>\n",
       "      <td>67.57</td>\n",
       "      <td>29.30</td>\n",
       "      <td>360</td>\n",
       "      <td>625000.0</td>\n",
       "      <td>4.50</td>\n",
       "      <td>...</td>\n",
       "      <td>Single Detached</td>\n",
       "      <td>24</td>\n",
       "      <td>L7B</td>\n",
       "      <td>55-59</td>\n",
       "      <td>Female</td>\n",
       "      <td>120000</td>\n",
       "      <td>8</td>\n",
       "      <td>56</td>\n",
       "      <td>672</td>\n",
       "      <td>FUNDED</td>\n",
       "    </tr>\n",
       "    <tr>\n",
       "      <th>11113</th>\n",
       "      <td>CAX_Train_11114</td>\n",
       "      <td>11114</td>\n",
       "      <td>510000</td>\n",
       "      <td>2038</td>\n",
       "      <td>7.44</td>\n",
       "      <td>70.00</td>\n",
       "      <td>54.74</td>\n",
       "      <td>360</td>\n",
       "      <td>325000.0</td>\n",
       "      <td>5.50</td>\n",
       "      <td>...</td>\n",
       "      <td>Single Detached</td>\n",
       "      <td>12</td>\n",
       "      <td>L9V</td>\n",
       "      <td>30-34</td>\n",
       "      <td>Male</td>\n",
       "      <td>164000</td>\n",
       "      <td>8</td>\n",
       "      <td>44-45</td>\n",
       "      <td>676</td>\n",
       "      <td>FUNDED</td>\n",
       "    </tr>\n",
       "    <tr>\n",
       "      <th>15178</th>\n",
       "      <td>CAX_Train_15179</td>\n",
       "      <td>15179</td>\n",
       "      <td>215000</td>\n",
       "      <td>1014</td>\n",
       "      <td>10.28</td>\n",
       "      <td>75.00</td>\n",
       "      <td>19.26</td>\n",
       "      <td>360</td>\n",
       "      <td>161250.0</td>\n",
       "      <td>4.25</td>\n",
       "      <td>...</td>\n",
       "      <td>Single Detached</td>\n",
       "      <td>12</td>\n",
       "      <td>L8M</td>\n",
       "      <td>25-29</td>\n",
       "      <td>Male</td>\n",
       "      <td>130000</td>\n",
       "      <td>3</td>\n",
       "      <td>53</td>\n",
       "      <td>644</td>\n",
       "      <td>FUNDED</td>\n",
       "    </tr>\n",
       "    <tr>\n",
       "      <th>2912</th>\n",
       "      <td>CAX_Train_2913</td>\n",
       "      <td>2913</td>\n",
       "      <td>415000</td>\n",
       "      <td>857</td>\n",
       "      <td>26.44</td>\n",
       "      <td>80.00</td>\n",
       "      <td>41.17</td>\n",
       "      <td>360</td>\n",
       "      <td>332000.0</td>\n",
       "      <td>4.00</td>\n",
       "      <td>...</td>\n",
       "      <td>Semi-Detached</td>\n",
       "      <td>12</td>\n",
       "      <td>T3P</td>\n",
       "      <td>30-34</td>\n",
       "      <td>Female</td>\n",
       "      <td>83000</td>\n",
       "      <td>2</td>\n",
       "      <td>56</td>\n",
       "      <td>644</td>\n",
       "      <td>FUNDED</td>\n",
       "    </tr>\n",
       "  </tbody>\n",
       "</table>\n",
       "<p>5 rows × 22 columns</p>\n",
       "</div>"
      ],
      "text/plain": [
       "             Unique_ID  MORTGAGE NUMBER  PROPERTY VALUE  MORTGAGE PAYMENT  \\\n",
       "23354  CAX_Train_23355            23355          411000              1770   \n",
       "10418  CAX_Train_10419            10419          600000              3512   \n",
       "11113  CAX_Train_11114            11114          510000              2038   \n",
       "15178  CAX_Train_15179            15179          215000              1014   \n",
       "2912    CAX_Train_2913             2913          415000               857   \n",
       "\n",
       "         GDS    LTV    TDS  AMORTIZATION  MORTGAGE AMOUNT  RATE   ...    \\\n",
       "23354  27.69  80.00  39.57           360         328792.0  4.00   ...     \n",
       "10418  29.30  67.57  29.30           360         625000.0  4.50   ...     \n",
       "11113   7.44  70.00  54.74           360         325000.0  5.50   ...     \n",
       "15178  10.28  75.00  19.26           360         161250.0  4.25   ...     \n",
       "2912   26.44  80.00  41.17           360         332000.0  4.00   ...     \n",
       "\n",
       "         PROPERTY TYPE TERM  FSA  AGE RANGE  GENDER  INCOME INCOME TYPE  \\\n",
       "23354  Single Detached   12  L7A      35-39  Female  240000           5   \n",
       "10418  Single Detached   24  L7B      55-59  Female  120000           8   \n",
       "11113  Single Detached   12  L9V      30-34    Male  164000           8   \n",
       "15178  Single Detached   12  L8M      25-29    Male  130000           3   \n",
       "2912     Semi-Detached   12  T3P      30-34  Female   83000           2   \n",
       "\n",
       "       NAICS CODE  CREDIT SCORE  RESULT  \n",
       "23354          61           680  FUNDED  \n",
       "10418          56           672  FUNDED  \n",
       "11113       44-45           676  FUNDED  \n",
       "15178          53           644  FUNDED  \n",
       "2912           56           644  FUNDED  \n",
       "\n",
       "[5 rows x 22 columns]"
      ]
     },
     "metadata": {},
     "output_type": "display_data"
    },
    {
     "name": "stdout",
     "output_type": "stream",
     "text": [
      "----------------------------------------------------------------------------------------------------\n",
      "Test data sample:\n"
     ]
    },
    {
     "data": {
      "text/html": [
       "<div>\n",
       "<style scoped>\n",
       "    .dataframe tbody tr th:only-of-type {\n",
       "        vertical-align: middle;\n",
       "    }\n",
       "\n",
       "    .dataframe tbody tr th {\n",
       "        vertical-align: top;\n",
       "    }\n",
       "\n",
       "    .dataframe thead th {\n",
       "        text-align: right;\n",
       "    }\n",
       "</style>\n",
       "<table border=\"1\" class=\"dataframe\">\n",
       "  <thead>\n",
       "    <tr style=\"text-align: right;\">\n",
       "      <th></th>\n",
       "      <th>Unique_ID</th>\n",
       "      <th>MORTGAGE NUMBER</th>\n",
       "      <th>PROPERTY VALUE</th>\n",
       "      <th>MORTGAGE PAYMENT</th>\n",
       "      <th>GDS</th>\n",
       "      <th>LTV</th>\n",
       "      <th>TDS</th>\n",
       "      <th>AMORTIZATION</th>\n",
       "      <th>MORTGAGE AMOUNT</th>\n",
       "      <th>RATE</th>\n",
       "      <th>...</th>\n",
       "      <th>PROPERTY TYPE</th>\n",
       "      <th>TERM</th>\n",
       "      <th>FSA</th>\n",
       "      <th>AGE RANGE</th>\n",
       "      <th>GENDER</th>\n",
       "      <th>INCOME</th>\n",
       "      <th>INCOME TYPE</th>\n",
       "      <th>NAICS CODE</th>\n",
       "      <th>CREDIT SCORE</th>\n",
       "      <th>RESULT</th>\n",
       "    </tr>\n",
       "  </thead>\n",
       "  <tbody>\n",
       "    <tr>\n",
       "      <th>13169</th>\n",
       "      <td>CAX_Test_13170</td>\n",
       "      <td>58812</td>\n",
       "      <td>390000</td>\n",
       "      <td>833</td>\n",
       "      <td>25.54</td>\n",
       "      <td>78.460</td>\n",
       "      <td>36.70</td>\n",
       "      <td>360</td>\n",
       "      <td>306000.0</td>\n",
       "      <td>4.00</td>\n",
       "      <td>...</td>\n",
       "      <td>Single Detached</td>\n",
       "      <td>12</td>\n",
       "      <td>L3Z</td>\n",
       "      <td>60-64</td>\n",
       "      <td>Female</td>\n",
       "      <td>42000</td>\n",
       "      <td>2</td>\n",
       "      <td>56</td>\n",
       "      <td>648</td>\n",
       "      <td>NaN</td>\n",
       "    </tr>\n",
       "    <tr>\n",
       "      <th>8093</th>\n",
       "      <td>CAX_Test_8094</td>\n",
       "      <td>53736</td>\n",
       "      <td>1100000</td>\n",
       "      <td>4858</td>\n",
       "      <td>36.14</td>\n",
       "      <td>80.000</td>\n",
       "      <td>36.60</td>\n",
       "      <td>360</td>\n",
       "      <td>879992.0</td>\n",
       "      <td>3.50</td>\n",
       "      <td>...</td>\n",
       "      <td>Single Detached</td>\n",
       "      <td>12</td>\n",
       "      <td>L4G</td>\n",
       "      <td>30-34</td>\n",
       "      <td>Male</td>\n",
       "      <td>120000</td>\n",
       "      <td>8</td>\n",
       "      <td>44-45</td>\n",
       "      <td>766</td>\n",
       "      <td>NaN</td>\n",
       "    </tr>\n",
       "    <tr>\n",
       "      <th>13167</th>\n",
       "      <td>CAX_Test_13168</td>\n",
       "      <td>58810</td>\n",
       "      <td>420000</td>\n",
       "      <td>1222</td>\n",
       "      <td>44.60</td>\n",
       "      <td>55.952</td>\n",
       "      <td>52.07</td>\n",
       "      <td>300</td>\n",
       "      <td>245000.0</td>\n",
       "      <td>4.00</td>\n",
       "      <td>...</td>\n",
       "      <td>Townhouse Freehold</td>\n",
       "      <td>60</td>\n",
       "      <td>K2J</td>\n",
       "      <td>40-44</td>\n",
       "      <td>Female</td>\n",
       "      <td>44000</td>\n",
       "      <td>1</td>\n",
       "      <td>81</td>\n",
       "      <td>791</td>\n",
       "      <td>NaN</td>\n",
       "    </tr>\n",
       "    <tr>\n",
       "      <th>1971</th>\n",
       "      <td>CAX_Test_1972</td>\n",
       "      <td>47614</td>\n",
       "      <td>1360000</td>\n",
       "      <td>6364</td>\n",
       "      <td>16.14</td>\n",
       "      <td>75.000</td>\n",
       "      <td>42.54</td>\n",
       "      <td>360</td>\n",
       "      <td>1019925.0</td>\n",
       "      <td>5.00</td>\n",
       "      <td>...</td>\n",
       "      <td>Single Detached</td>\n",
       "      <td>12</td>\n",
       "      <td>L5G</td>\n",
       "      <td>40-44</td>\n",
       "      <td>Unknown</td>\n",
       "      <td>1500000</td>\n",
       "      <td>8</td>\n",
       "      <td>56</td>\n",
       "      <td>722</td>\n",
       "      <td>NaN</td>\n",
       "    </tr>\n",
       "    <tr>\n",
       "      <th>2855</th>\n",
       "      <td>CAX_Test_2856</td>\n",
       "      <td>48498</td>\n",
       "      <td>300000</td>\n",
       "      <td>1423</td>\n",
       "      <td>37.62</td>\n",
       "      <td>80.000</td>\n",
       "      <td>37.92</td>\n",
       "      <td>360</td>\n",
       "      <td>239992.0</td>\n",
       "      <td>4.25</td>\n",
       "      <td>...</td>\n",
       "      <td>High Rise</td>\n",
       "      <td>12</td>\n",
       "      <td>M9A</td>\n",
       "      <td>45-49</td>\n",
       "      <td>Male</td>\n",
       "      <td>54000</td>\n",
       "      <td>8</td>\n",
       "      <td>48-49</td>\n",
       "      <td>692</td>\n",
       "      <td>NaN</td>\n",
       "    </tr>\n",
       "  </tbody>\n",
       "</table>\n",
       "<p>5 rows × 22 columns</p>\n",
       "</div>"
      ],
      "text/plain": [
       "            Unique_ID  MORTGAGE NUMBER  PROPERTY VALUE  MORTGAGE PAYMENT  \\\n",
       "13169  CAX_Test_13170            58812          390000               833   \n",
       "8093    CAX_Test_8094            53736         1100000              4858   \n",
       "13167  CAX_Test_13168            58810          420000              1222   \n",
       "1971    CAX_Test_1972            47614         1360000              6364   \n",
       "2855    CAX_Test_2856            48498          300000              1423   \n",
       "\n",
       "         GDS     LTV    TDS  AMORTIZATION  MORTGAGE AMOUNT  RATE  ...    \\\n",
       "13169  25.54  78.460  36.70           360         306000.0  4.00  ...     \n",
       "8093   36.14  80.000  36.60           360         879992.0  3.50  ...     \n",
       "13167  44.60  55.952  52.07           300         245000.0  4.00  ...     \n",
       "1971   16.14  75.000  42.54           360        1019925.0  5.00  ...     \n",
       "2855   37.62  80.000  37.92           360         239992.0  4.25  ...     \n",
       "\n",
       "            PROPERTY TYPE TERM  FSA  AGE RANGE   GENDER   INCOME INCOME TYPE  \\\n",
       "13169     Single Detached   12  L3Z      60-64   Female    42000           2   \n",
       "8093      Single Detached   12  L4G      30-34     Male   120000           8   \n",
       "13167  Townhouse Freehold   60  K2J      40-44   Female    44000           1   \n",
       "1971      Single Detached   12  L5G      40-44  Unknown  1500000           8   \n",
       "2855            High Rise   12  M9A      45-49     Male    54000           8   \n",
       "\n",
       "       NAICS CODE  CREDIT SCORE RESULT  \n",
       "13169          56           648    NaN  \n",
       "8093        44-45           766    NaN  \n",
       "13167          81           791    NaN  \n",
       "1971           56           722    NaN  \n",
       "2855        48-49           692    NaN  \n",
       "\n",
       "[5 rows x 22 columns]"
      ]
     },
     "metadata": {},
     "output_type": "display_data"
    },
    {
     "name": "stdout",
     "output_type": "stream",
     "text": [
      "----------------------------------------------------------------------------------------------------\n",
      "Train data info:\n",
      "<class 'pandas.core.frame.DataFrame'>\n",
      "RangeIndex: 45642 entries, 0 to 45641\n",
      "Data columns (total 22 columns):\n",
      "Unique_ID            45642 non-null object\n",
      "MORTGAGE NUMBER      45642 non-null int64\n",
      "PROPERTY VALUE       45642 non-null int64\n",
      "MORTGAGE PAYMENT     45642 non-null int64\n",
      "GDS                  45642 non-null float64\n",
      "LTV                  45642 non-null float64\n",
      "TDS                  45642 non-null float64\n",
      "AMORTIZATION         45642 non-null int64\n",
      "MORTGAGE AMOUNT      45642 non-null float64\n",
      "RATE                 45642 non-null float64\n",
      "MORTGAGE PURPOSE     45642 non-null object\n",
      "PAYMENT FREQUENCY    45642 non-null object\n",
      "PROPERTY TYPE        45642 non-null object\n",
      "TERM                 45642 non-null int64\n",
      "FSA                  45642 non-null object\n",
      "AGE RANGE            45642 non-null object\n",
      "GENDER               45642 non-null object\n",
      "INCOME               45642 non-null int64\n",
      "INCOME TYPE          45642 non-null int64\n",
      "NAICS CODE           45642 non-null object\n",
      "CREDIT SCORE         45642 non-null int64\n",
      "RESULT               45642 non-null object\n",
      "dtypes: float64(5), int64(8), object(9)\n",
      "memory usage: 7.7+ MB\n",
      "None\n",
      "----------------------------------------------------------------------------------------------------\n",
      "Test data info:\n",
      "<class 'pandas.core.frame.DataFrame'>\n",
      "RangeIndex: 15214 entries, 0 to 15213\n",
      "Data columns (total 22 columns):\n",
      "Unique_ID            15214 non-null object\n",
      "MORTGAGE NUMBER      15214 non-null int64\n",
      "PROPERTY VALUE       15214 non-null int64\n",
      "MORTGAGE PAYMENT     15214 non-null int64\n",
      "GDS                  15214 non-null float64\n",
      "LTV                  15214 non-null float64\n",
      "TDS                  15214 non-null float64\n",
      "AMORTIZATION         15214 non-null int64\n",
      "MORTGAGE AMOUNT      15214 non-null float64\n",
      "RATE                 15214 non-null float64\n",
      "MORTGAGE PURPOSE     15214 non-null object\n",
      "PAYMENT FREQUENCY    15214 non-null object\n",
      "PROPERTY TYPE        15214 non-null object\n",
      "TERM                 15214 non-null int64\n",
      "FSA                  15214 non-null object\n",
      "AGE RANGE            15214 non-null object\n",
      "GENDER               15214 non-null object\n",
      "INCOME               15214 non-null int64\n",
      "INCOME TYPE          15214 non-null int64\n",
      "NAICS CODE           15214 non-null object\n",
      "CREDIT SCORE         15214 non-null int64\n",
      "RESULT               0 non-null float64\n",
      "dtypes: float64(6), int64(8), object(8)\n",
      "memory usage: 2.6+ MB\n",
      "None\n"
     ]
    }
   ],
   "source": [
    "# Import packages\n",
    "import pandas as pd\n",
    "import numpy as np\n",
    "from IPython.display import display\n",
    "\n",
    "# Additional graphics settings and pre-definition of a usual splitline\n",
    "%config InlineBackend.figure_format = 'retina' # Very useful for macOS! Turns on HD charts from matplotlib\n",
    "splitline = '-' * 100 # I'll use this to visually split tables and charts in the output\n",
    "\n",
    "# Load train and test original data\n",
    "train_raw = pd.read_csv('/Users/urij/Desktop/CS/CAXMortgage/CAX_MortgageModeling_Train.csv')\n",
    "test_raw = pd.read_csv('/Users/urij/Desktop/CS/CAXMortgage/CAX_MortgageModeling_Test.csv')\n",
    "\n",
    "# Briefly explore the features of original data\n",
    "print('Train data sample:')\n",
    "display(train_raw.sample(5))\n",
    "print(splitline)\n",
    "print('Test data sample:')\n",
    "display(test_raw.sample(5))\n",
    "print(splitline)\n",
    "print('Train data info:')\n",
    "print(train_raw.info())\n",
    "print(splitline)\n",
    "print('Test data info:')\n",
    "print(test_raw.info())"
   ]
  },
  {
   "cell_type": "markdown",
   "metadata": {},
   "source": [
    "## In-depth study of features and preprocessing"
   ]
  },
  {
   "cell_type": "markdown",
   "metadata": {},
   "source": [
    "### Unique ID and Mortgage number\n",
    "* Unique ID here is just a sequence number of an observation in a dataset. It is not needed for any ML methods;\n",
    "* We won't need Mortgage number at any step as well, because it's just application's number in bank's internal CRM system."
   ]
  },
  {
   "cell_type": "markdown",
   "metadata": {},
   "source": [
    "### Property value (in USD)\n",
    "I always begin working with a feature with an EDA – exploratory data analysis. Here I check how this feature is distibuted in both train and test sets:"
   ]
  },
  {
   "cell_type": "code",
   "execution_count": 43,
   "metadata": {},
   "outputs": [
    {
     "data": {
      "image/png": "[encoded data removed]",
      "text/plain": [
       "<Figure size 864x576 with 2 Axes>"
      ]
     },
     "metadata": {
      "image/png": {
       "height": 568,
       "width": 855
      },
      "needs_background": "light"
     },
     "output_type": "display_data"
    },
    {
     "name": "stdout",
     "output_type": "stream",
     "text": [
      "----------------------------------------------------------------------------------------------------\n",
      "Property value in the train set:\n"
     ]
    },
    {
     "data": {
      "text/plain": [
       "count       45642.0\n",
       "mean       582611.0\n",
       "std        438208.2\n",
       "min         14000.0\n",
       "25%        340000.0\n",
       "50%        477000.0\n",
       "75%        685000.0\n",
       "max      18000000.0\n",
       "Name: PROPERTY VALUE, dtype: object"
      ]
     },
     "metadata": {},
     "output_type": "display_data"
    },
    {
     "name": "stdout",
     "output_type": "stream",
     "text": [
      "----------------------------------------------------------------------------------------------------\n",
      "Property value in the test set:\n"
     ]
    },
    {
     "data": {
      "text/plain": [
       "count      15214.0\n",
       "mean      579044.2\n",
       "std       417527.7\n",
       "min        36000.0\n",
       "25%       337000.0\n",
       "50%       474000.0\n",
       "75%       680000.0\n",
       "max      7500000.0\n",
       "Name: PROPERTY VALUE, dtype: object"
      ]
     },
     "metadata": {},
     "output_type": "display_data"
    }
   ],
   "source": [
    "# Import the package for visuals\n",
    "import matplotlib.pyplot as plt\n",
    "\n",
    "# Calculate the number of bins for each histogram\n",
    "nbins_train = int(np.sqrt(train_raw.shape[0]))\n",
    "nbins_test = int(np.sqrt(test_raw.shape[0]))\n",
    "\n",
    "# Create a figure to host 2 axes\n",
    "fig1 = plt.figure(figsize = (12, 8))\n",
    "\n",
    "# First axes - histograms\n",
    "axes11 = fig1.add_subplot(211)\n",
    "axes11.set_title('Property value: original data EDA', fontsize = 20)\n",
    "axes11.hist(train_raw['PROPERTY VALUE'], bins = nbins_train, color = 'blue', label = 'Train')\n",
    "axes11.hist(test_raw['PROPERTY VALUE'], bins = nbins_test, color = 'red', label = 'Test')\n",
    "axes11.legend()\n",
    "\n",
    "# Second axes - boxplots\n",
    "axes12 = fig1.add_subplot(212)\n",
    "axes12.boxplot([train_raw['PROPERTY VALUE'], test_raw['PROPERTY VALUE']], vert = False, labels = ['Train', 'Test'])\n",
    "\n",
    "# Show the figure\n",
    "plt.tight_layout()\n",
    "plt.show()\n",
    "\n",
    "# Print the five-number summary of the feature\n",
    "print(splitline)\n",
    "print('Property value in the train set:')\n",
    "display(train_raw['PROPERTY VALUE'].describe().apply(\"{0:.1f}\".format))\n",
    "print(splitline)\n",
    "print('Property value in the test set:')\n",
    "display(test_raw['PROPERTY VALUE'].describe().apply(\"{0:.1f}\".format))"
   ]
  },
  {
   "cell_type": "markdown",
   "metadata": {},
   "source": [
    "**What I see here:**\n",
    "* The distribution of property value in both sets is approximately the same\n",
    "* There are few large outliers in the Train set\n",
    "* Property value feature has a very wide range: from USD 14k to ~750k, even if I remove the largest outliers\n",
    "\n",
    "**So, I preprocessed this feature as follows:**\n",
    "* Removed the rows with the most extreme outliers from the train set: those with property value more than the largest property value in the train set\n",
    "* Transfromed property value feature to the LOG form in both train and test sets"
   ]
  },
  {
   "cell_type": "code",
   "execution_count": 44,
   "metadata": {},
   "outputs": [
    {
     "name": "stdout",
     "output_type": "stream",
     "text": [
      "Rows to be dropped from train set based on property value: 6\n"
     ]
    },
    {
     "data": {
      "image/png": "[encoded data removed]",
      "text/plain": [
       "<Figure size 864x576 with 2 Axes>"
      ]
     },
     "metadata": {
      "image/png": {
       "height": 568,
       "width": 855
      },
      "needs_background": "light"
     },
     "output_type": "display_data"
    }
   ],
   "source": [
    "# Find the largest property value in the test set\n",
    "dropbound_pv = test_raw['PROPERTY VALUE'].max()\n",
    "\n",
    "# Check how many rows will be dropped from the train set\n",
    "print('Rows to be dropped from train set based on property value:', \\\n",
    "      train_raw[train_raw['PROPERTY VALUE'] > dropbound_pv].count()['PROPERTY VALUE'])\n",
    "\n",
    "# Drop them\n",
    "train_raw = train_raw.drop(train_raw[train_raw['PROPERTY VALUE'] > dropbound_pv].index)\n",
    "\n",
    "# Convert property value to LOG form in both sets\n",
    "for dataset in [train_raw, test_raw]:\n",
    "    dataset['PROPERTY VALUE'] = np.log(dataset['PROPERTY VALUE'])\n",
    "    \n",
    "# Create a chart to check the preprocessing results\n",
    "fig2 = plt.figure(figsize = (12, 8))\n",
    "axes21 = fig2.add_subplot(211)\n",
    "axes21.hist(train_raw['PROPERTY VALUE'], bins = nbins_train, color = 'blue', label = 'Train', alpha = 0.5)\n",
    "axes21.hist(test_raw['PROPERTY VALUE'], bins = nbins_test, color = 'red', label = 'Test', alpha = 0.5)\n",
    "axes21.set_title('Property value: processed data EDA', fontsize = 20)\n",
    "axes21.legend()\n",
    "axes22 = fig2.add_subplot(212)\n",
    "axes22.boxplot([train_raw['PROPERTY VALUE'], test_raw['PROPERTY VALUE']], vert = False, labels = ['Train', 'Test'])\n",
    "plt.tight_layout()\n",
    "plt.show()"
   ]
  },
  {
   "cell_type": "markdown",
   "metadata": {},
   "source": [
    "Now I test a hypothesis regarding the relationship between property value feature and target variable.\n",
    "**My hypothesis is**: Property value has positive correlation with funding rate (Here and onwards, I'll call the probability of a morgage being funded by a keyword: 'Funding rate')."
   ]
  },
  {
   "cell_type": "code",
   "execution_count": 45,
   "metadata": {},
   "outputs": [
    {
     "name": "stdout",
     "output_type": "stream",
     "text": [
      "Corr: -0.0866\n",
      "P-value: 0.0\n"
     ]
    }
   ],
   "source": [
    "# First, I encode target to binary variable from text format\n",
    "train_raw['RESULT'] = train_raw['RESULT'].map({'FUNDED': 1, 'NOT FUNDED': 0})\n",
    "\n",
    "# Second, I calculate the point-biserial correlation coefficient\n",
    "from scipy import stats\n",
    "pbis = stats.pointbiserialr(train_raw['RESULT'], train_raw['PROPERTY VALUE'])\n",
    "print('Corr:', round(pbis[0], 4))\n",
    "print('P-value:', round(pbis[1], 4))"
   ]
  },
  {
   "cell_type": "markdown",
   "metadata": {},
   "source": [
    "My hypothesis should be **rejected**, and at 1% significance level we can conclude that **property value has negative correlation with funding rate**. Undoubtedly, a more reliable conclusion can be made only by evaluating the coefficient before the property value feature in the final model with several factors. However, such a quick check allowed me to make a decision to **include this feature in the final model**."
   ]
  },
  {
   "cell_type": "markdown",
   "metadata": {},
   "source": [
    "### Mortgage payment (in USD per single payment) and Payment frequency (as text)\n",
    "To properly use these features, I decided to begin with figuring the dimensionality of mortgage payment. It was said in the competition documentation that this feature contains payments values based on \"... and payment frequency\". So I expected to see per-payment values there: the more frequent the terms, the lower the single payment. And it was true. I made a quick check and ensured that for observations with equal interest rate, the product of mortgage payment and the number of mortgage payments per year is equal.\n",
    "\n",
    "As I did with property value, I explore the distribution of these features first. But this time i'll do in via crosstab, because Payment frequency has only 6 values:"
   ]
  },
  {
   "cell_type": "code",
   "execution_count": 46,
   "metadata": {},
   "outputs": [
    {
     "data": {
      "text/html": [
       "<div>\n",
       "<style scoped>\n",
       "    .dataframe tbody tr th:only-of-type {\n",
       "        vertical-align: middle;\n",
       "    }\n",
       "\n",
       "    .dataframe tbody tr th {\n",
       "        vertical-align: top;\n",
       "    }\n",
       "\n",
       "    .dataframe thead th {\n",
       "        text-align: right;\n",
       "    }\n",
       "</style>\n",
       "<table border=\"1\" class=\"dataframe\">\n",
       "  <thead>\n",
       "    <tr style=\"text-align: right;\">\n",
       "      <th>RESULT</th>\n",
       "      <th>0</th>\n",
       "      <th>1</th>\n",
       "    </tr>\n",
       "    <tr>\n",
       "      <th>PAYMENT FREQUENCY</th>\n",
       "      <th></th>\n",
       "      <th></th>\n",
       "    </tr>\n",
       "  </thead>\n",
       "  <tbody>\n",
       "    <tr>\n",
       "      <th>Bi-Weekly</th>\n",
       "      <td>0</td>\n",
       "      <td>1803</td>\n",
       "    </tr>\n",
       "    <tr>\n",
       "      <th>Bi-Weekly Accelerated</th>\n",
       "      <td>0</td>\n",
       "      <td>1047</td>\n",
       "    </tr>\n",
       "    <tr>\n",
       "      <th>Monthly</th>\n",
       "      <td>9618</td>\n",
       "      <td>33161</td>\n",
       "    </tr>\n",
       "    <tr>\n",
       "      <th>Semi-Monthly</th>\n",
       "      <td>0</td>\n",
       "      <td>4</td>\n",
       "    </tr>\n",
       "    <tr>\n",
       "      <th>Weekly</th>\n",
       "      <td>0</td>\n",
       "      <td>2</td>\n",
       "    </tr>\n",
       "    <tr>\n",
       "      <th>Weekly Accelerated</th>\n",
       "      <td>0</td>\n",
       "      <td>1</td>\n",
       "    </tr>\n",
       "  </tbody>\n",
       "</table>\n",
       "</div>"
      ],
      "text/plain": [
       "RESULT                    0      1\n",
       "PAYMENT FREQUENCY                 \n",
       "Bi-Weekly                 0   1803\n",
       "Bi-Weekly Accelerated     0   1047\n",
       "Monthly                9618  33161\n",
       "Semi-Monthly              0      4\n",
       "Weekly                    0      2\n",
       "Weekly Accelerated        0      1"
      ]
     },
     "metadata": {},
     "output_type": "display_data"
    }
   ],
   "source": [
    "display(pd.crosstab(train_raw['PAYMENT FREQUENCY'], train_raw['RESULT']))"
   ]
  },
  {
   "cell_type": "markdown",
   "metadata": {},
   "source": [
    "Here I see that all the applications for non-monthly payments were funded. So, my decision was the following:\n",
    "* Convert all payments to monthly values and create a new feature of of it: MPAYMENT\n",
    "* Encode \"Payment frequency\" feature to binary: whether it is monthly or not"
   ]
  },
  {
   "cell_type": "code",
   "execution_count": 47,
   "metadata": {},
   "outputs": [],
   "source": [
    "# Present payment frequency as the number of payments per month (PPM)\n",
    "for dataset in [train_raw, test_raw]:\n",
    "    dataset['PPM'] = dataset['PAYMENT FREQUENCY'].map({'Monthly': 1,\n",
    "                                                       'Bi-Weekly': 2,\n",
    "                                                       'Bi-Weekly Accelerated': 2,\n",
    "                                                       'Semi-Monthly': 2,\n",
    "                                                       'Weekly': 4,\n",
    "                                                       'Weekly Accelerated': 4})\n",
    "    \n",
    "    # Create a new feature: monthly payment value\n",
    "    dataset['MPAYMENT'] = dataset['PPM'] * dataset['MORTGAGE PAYMENT']\n",
    "    \n",
    "# Encode payment frequency to binary - monthly or not\n",
    "for dataset in [train_raw, test_raw]:\n",
    "    dataset['PAYMENT FREQUENCY'] = dataset['PAYMENT FREQUENCY'].map({'Monthly': 1,\n",
    "                                                                     'Bi-Weekly': 0,\n",
    "                                                                     'Bi-Weekly Accelerated': 0,\n",
    "                                                                     'Semi-Monthly': 0,\n",
    "                                                                     'Weekly': 0,\n",
    "                                                                     'Weekly Accelerated': 0})"
   ]
  },
  {
   "cell_type": "markdown",
   "metadata": {},
   "source": [
    "Decision: **include** MPAYMENT and the binary Payment Frequency to the final model."
   ]
  },
  {
   "cell_type": "markdown",
   "metadata": {},
   "source": [
    "### GDS: Annualized Housing Expenses / Annual Income * 100\n",
    "The first obvious hypothesis related to this feature: it is negatively correlated with funding rate. I tried to check it via a table first, without statistical tests:"
   ]
  },
  {
   "cell_type": "code",
   "execution_count": 48,
   "metadata": {},
   "outputs": [
    {
     "data": {
      "text/html": [
       "<div>\n",
       "<style scoped>\n",
       "    .dataframe tbody tr th:only-of-type {\n",
       "        vertical-align: middle;\n",
       "    }\n",
       "\n",
       "    .dataframe tbody tr th {\n",
       "        vertical-align: top;\n",
       "    }\n",
       "\n",
       "    .dataframe thead th {\n",
       "        text-align: right;\n",
       "    }\n",
       "</style>\n",
       "<table border=\"1\" class=\"dataframe\">\n",
       "  <thead>\n",
       "    <tr style=\"text-align: right;\">\n",
       "      <th></th>\n",
       "      <th>GDS_band</th>\n",
       "      <th>RESULT</th>\n",
       "    </tr>\n",
       "  </thead>\n",
       "  <tbody>\n",
       "    <tr>\n",
       "      <th>0</th>\n",
       "      <td>(-37.041, 16.92]</td>\n",
       "      <td>0.794656</td>\n",
       "    </tr>\n",
       "    <tr>\n",
       "      <th>1</th>\n",
       "      <td>(16.92, 26.08]</td>\n",
       "      <td>0.790881</td>\n",
       "    </tr>\n",
       "    <tr>\n",
       "      <th>2</th>\n",
       "      <td>(26.08, 31.88]</td>\n",
       "      <td>0.798423</td>\n",
       "    </tr>\n",
       "    <tr>\n",
       "      <th>3</th>\n",
       "      <td>(31.88, 37.4]</td>\n",
       "      <td>0.800241</td>\n",
       "    </tr>\n",
       "    <tr>\n",
       "      <th>4</th>\n",
       "      <td>(37.4, 6872300.0]</td>\n",
       "      <td>0.762004</td>\n",
       "    </tr>\n",
       "  </tbody>\n",
       "</table>\n",
       "</div>"
      ],
      "text/plain": [
       "            GDS_band    RESULT\n",
       "0   (-37.041, 16.92]  0.794656\n",
       "1     (16.92, 26.08]  0.790881\n",
       "2     (26.08, 31.88]  0.798423\n",
       "3      (31.88, 37.4]  0.800241\n",
       "4  (37.4, 6872300.0]  0.762004"
      ]
     },
     "metadata": {},
     "output_type": "display_data"
    }
   ],
   "source": [
    "# Create a new temporary feature - GDS band. I divided GDS into 5 bans based on quantiles of distribution.\n",
    "train_raw['GDS_band'] = pd.qcut(train_raw['GDS'], 5)\n",
    "\n",
    "# Now, let's see how our funding rate differs from band to band\n",
    "display(train_raw[['GDS_band', 'RESULT']].groupby(['GDS_band'], \\\n",
    "        as_index=False).mean().sort_values(by='GDS_band', ascending=True))"
   ]
  },
  {
   "cell_type": "markdown",
   "metadata": {},
   "source": [
    "I also tried 3 and 7 bands, and neither case provides any sign of correlation. So, I decided **not to include this feature in the further analysis and final model**."
   ]
  },
  {
   "cell_type": "markdown",
   "metadata": {},
   "source": [
    "### LTV: Mortgage Amount / Property Value * 100"
   ]
  },
  {
   "cell_type": "markdown",
   "metadata": {},
   "source": [
    "Same as with GDS, I first checked the potential correlation visually, and my starting hypothesis was that LTV should be negatively correlated with funding rate."
   ]
  },
  {
   "cell_type": "code",
   "execution_count": 49,
   "metadata": {},
   "outputs": [
    {
     "data": {
      "text/html": [
       "<div>\n",
       "<style scoped>\n",
       "    .dataframe tbody tr th:only-of-type {\n",
       "        vertical-align: middle;\n",
       "    }\n",
       "\n",
       "    .dataframe tbody tr th {\n",
       "        vertical-align: top;\n",
       "    }\n",
       "\n",
       "    .dataframe thead th {\n",
       "        text-align: right;\n",
       "    }\n",
       "</style>\n",
       "<table border=\"1\" class=\"dataframe\">\n",
       "  <thead>\n",
       "    <tr style=\"text-align: right;\">\n",
       "      <th></th>\n",
       "      <th>LTV_band</th>\n",
       "      <th>RESULT</th>\n",
       "    </tr>\n",
       "  </thead>\n",
       "  <tbody>\n",
       "    <tr>\n",
       "      <th>0</th>\n",
       "      <td>(6.6659999999999995, 65.0]</td>\n",
       "      <td>13622</td>\n",
       "    </tr>\n",
       "    <tr>\n",
       "      <th>1</th>\n",
       "      <td>(65.0, 73.2]</td>\n",
       "      <td>4637</td>\n",
       "    </tr>\n",
       "    <tr>\n",
       "      <th>2</th>\n",
       "      <td>(73.2, 75.0]</td>\n",
       "      <td>10272</td>\n",
       "    </tr>\n",
       "    <tr>\n",
       "      <th>3</th>\n",
       "      <td>(75.0, 80.0]</td>\n",
       "      <td>17080</td>\n",
       "    </tr>\n",
       "    <tr>\n",
       "      <th>4</th>\n",
       "      <td>(80.0, 95.0]</td>\n",
       "      <td>25</td>\n",
       "    </tr>\n",
       "  </tbody>\n",
       "</table>\n",
       "</div>"
      ],
      "text/plain": [
       "                     LTV_band  RESULT\n",
       "0  (6.6659999999999995, 65.0]   13622\n",
       "1                (65.0, 73.2]    4637\n",
       "2                (73.2, 75.0]   10272\n",
       "3                (75.0, 80.0]   17080\n",
       "4                (80.0, 95.0]      25"
      ]
     },
     "metadata": {},
     "output_type": "display_data"
    }
   ],
   "source": [
    "# Create a new temporary feature - LTV band. I divided LTV into 5 bans based on quantiles of distribution.\n",
    "train_raw['LTV_band'] = pd.qcut(train_raw['LTV'], 5)\n",
    "\n",
    "# Now, let's see how our funding rate differs from band to band\n",
    "display(train_raw[['LTV_band', 'RESULT']].groupby(['LTV_band'], \\\n",
    "        as_index=False).count().sort_values(by='LTV_band', ascending=True))"
   ]
  },
  {
   "cell_type": "markdown",
   "metadata": {},
   "source": [
    "Well, seems like there might be a correlation! Interesting, that none application from the highest LTV band was approved (there were 25 of them, the piece of code that checked it is not presented here).\n",
    "\n",
    "I also decided that the fifth band data can be treated as significant outliers: first four bands have thousands of observations, while the last has only 25. I decided to drop all observations from this band."
   ]
  },
  {
   "cell_type": "code",
   "execution_count": 50,
   "metadata": {},
   "outputs": [],
   "source": [
    "# Drop the observations from the last band of LTV\n",
    "train_raw = train_raw.drop(train_raw[train_raw['LTV_band'] == train_raw['LTV_band'].max()].index)"
   ]
  },
  {
   "cell_type": "markdown",
   "metadata": {},
   "source": [
    "The next step was to check whether there is a correlation between LTV and funding rate. I'll use the point-biserial correlation coefficient:"
   ]
  },
  {
   "cell_type": "code",
   "execution_count": 51,
   "metadata": {},
   "outputs": [
    {
     "name": "stdout",
     "output_type": "stream",
     "text": [
      "Corr: 0.0648\n",
      "P-value: 0.0\n"
     ]
    }
   ],
   "source": [
    "# \"Calculate the point-biserial correlation coefficient\". Stats package is already imported.\n",
    "pbis = stats.pointbiserialr(train_raw['RESULT'], train_raw['LTV'])\n",
    "print('Corr:', round(pbis[0], 4))\n",
    "print('P-value:', round(pbis[1], 4))"
   ]
  },
  {
   "cell_type": "markdown",
   "metadata": {},
   "source": [
    "I can accept the hypothesis that there is a positive correlation at 1% significance level. However, when I tried to include many combinations of features into my final model, adding LTV didn't increase model's performance. Overall, **I decided not include LTV variable in my model**."
   ]
  },
  {
   "cell_type": "markdown",
   "metadata": {},
   "source": [
    "### TDS: (Annualized Housing Expenses + Other Expenses) / Annual Income * 100\n",
    "I started exploring this feature via EDA."
   ]
  },
  {
   "cell_type": "code",
   "execution_count": 52,
   "metadata": {},
   "outputs": [
    {
     "data": {
      "image/png": "[encoded data removed]",
      "text/plain": [
       "<Figure size 864x576 with 2 Axes>"
      ]
     },
     "metadata": {
      "image/png": {
       "height": 568,
       "width": 855
      },
      "needs_background": "light"
     },
     "output_type": "display_data"
    },
    {
     "name": "stdout",
     "output_type": "stream",
     "text": [
      "----------------------------------------------------------------------------------------------------\n",
      "TDS in the train set:\n"
     ]
    },
    {
     "data": {
      "text/plain": [
       "count       45611.0\n",
       "mean          412.8\n",
       "std         64280.4\n",
       "min           -10.7\n",
       "25%            32.8\n",
       "50%            38.3\n",
       "75%            42.2\n",
       "max      13462562.5\n",
       "Name: TDS, dtype: object"
      ]
     },
     "metadata": {},
     "output_type": "display_data"
    },
    {
     "name": "stdout",
     "output_type": "stream",
     "text": [
      "----------------------------------------------------------------------------------------------------\n",
      "TDS in the test set:\n"
     ]
    },
    {
     "data": {
      "text/plain": [
       "count       15214.0\n",
       "mean         2754.3\n",
       "std        209271.5\n",
       "min           -42.0\n",
       "25%            32.9\n",
       "50%            38.4\n",
       "75%            42.2\n",
       "max      22747962.5\n",
       "Name: TDS, dtype: object"
      ]
     },
     "metadata": {},
     "output_type": "display_data"
    }
   ],
   "source": [
    "# Create a figure to host 2 axes\n",
    "fig3 = plt.figure(figsize = (12, 8))\n",
    "\n",
    "# First axes - histograms\n",
    "axes31 = fig3.add_subplot(211)\n",
    "axes31.set_title('TDS: original data EDA', fontsize = 20)\n",
    "axes31.hist(train_raw['TDS'], bins = nbins_train, color = 'blue', label = 'Train')\n",
    "axes31.hist(test_raw['TDS'], bins = nbins_test, color = 'red', label = 'Test')\n",
    "axes31.legend()\n",
    "\n",
    "# Second axes - boxplots\n",
    "axes32 = fig3.add_subplot(212)\n",
    "axes32.boxplot([train_raw['TDS'], test_raw['TDS']], vert = False, labels = ['Train', 'Test'])\n",
    "\n",
    "# Show the figure\n",
    "plt.tight_layout()\n",
    "plt.show()\n",
    "\n",
    "# Print the five figure summary of the feature\n",
    "print(splitline)\n",
    "print('TDS in the train set:')\n",
    "display(train_raw['TDS'].describe().apply(\"{0:.1f}\".format))\n",
    "print(splitline)\n",
    "print('TDS in the test set:')\n",
    "display(test_raw['TDS'].describe().apply(\"{0:.1f}\".format))"
   ]
  },
  {
   "cell_type": "markdown",
   "metadata": {},
   "source": [
    "Here I see some huge outliers in both train and test sets. Before testing any hypothesis, let's deal with them. I will keep test set observations as they are now, because these outliers will not affect models' coefficients estimation. However, it's better to remove outliers from the train set. I will now check how many values of TDS exceed 100, and delete respective observations, if there are not so many rows.\n",
    "\n",
    "What is more, it seems like there are some negative values, which is a mistake: neither expenses nor income, which are the components of this feature, cannot be negative. I replace these negative values in both train and test set by zero."
   ]
  },
  {
   "cell_type": "code",
   "execution_count": 53,
   "metadata": {},
   "outputs": [
    {
     "name": "stdout",
     "output_type": "stream",
     "text": [
      "To drop: 353\n"
     ]
    }
   ],
   "source": [
    "# Check how many TDS values exceed 100\n",
    "dropbound_tds = 100\n",
    "print('To drop:', train_raw[train_raw['TDS'] > dropbound_tds].count()['TDS'])\n",
    "\n",
    "# Drop these values\n",
    "train_raw = train_raw.drop(train_raw[train_raw['TDS'] > dropbound_tds].index)\n",
    "\n",
    "# Replace negative TDS by zero in both sets\n",
    "for dataset in [train_raw, test_raw]:\n",
    "    dataset.loc[dataset['TDS'] < 0, 'TDS'] = 0"
   ]
  },
  {
   "cell_type": "markdown",
   "metadata": {},
   "source": [
    "Then, I repeat an EDA of the train set:"
   ]
  },
  {
   "cell_type": "code",
   "execution_count": 54,
   "metadata": {},
   "outputs": [
    {
     "data": {
      "image/png": "[encoded data removed]",
      "text/plain": [
       "<Figure size 864x576 with 2 Axes>"
      ]
     },
     "metadata": {
      "image/png": {
       "height": 568,
       "width": 855
      },
      "needs_background": "light"
     },
     "output_type": "display_data"
    }
   ],
   "source": [
    "# Create a figure to host 2 axes\n",
    "fig4 = plt.figure(figsize = (12, 8))\n",
    "\n",
    "# First axes - histogram\n",
    "axes41 = fig4.add_subplot(211)\n",
    "axes41.set_title('TDS: processed data EDA, train set', fontsize = 20)\n",
    "axes41.hist(train_raw['TDS'], bins = nbins_train, color = 'blue', label = 'Train')\n",
    "\n",
    "# Second axes - boxplot\n",
    "axes42 = fig4.add_subplot(212)\n",
    "axes42.boxplot(train_raw['TDS'], vert = False)\n",
    "\n",
    "# Show the figure\n",
    "plt.tight_layout()\n",
    "plt.show()"
   ]
  },
  {
   "cell_type": "markdown",
   "metadata": {},
   "source": [
    "Finally, I will test the hypothesis that there is a correlation between TDS and funding rate:"
   ]
  },
  {
   "cell_type": "code",
   "execution_count": 55,
   "metadata": {},
   "outputs": [
    {
     "name": "stdout",
     "output_type": "stream",
     "text": [
      "Corr: -0.0381\n",
      "P-value: 0.0\n"
     ]
    }
   ],
   "source": [
    "# \"Calculate the point-biserial correlation coefficient\". Stats package is already imported.\n",
    "pbis = stats.pointbiserialr(train_raw['RESULT'], train_raw['TDS'])\n",
    "print('Corr:', round(pbis[0], 4))\n",
    "print('P-value:', round(pbis[1], 4))"
   ]
  },
  {
   "cell_type": "markdown",
   "metadata": {},
   "source": [
    "At 1% significance level I can accept that yes, there is a negative correlation between them. However, when I tried to include many combinations of features into my final model, adding TDS didn't increase model's performance. Overall, **I decided not include TDS variable in my model**."
   ]
  },
  {
   "cell_type": "markdown",
   "metadata": {},
   "source": [
    "### Amortization, in month"
   ]
  },
  {
   "cell_type": "markdown",
   "metadata": {},
   "source": [
    "Let's check which values this feature takes:"
   ]
  },
  {
   "cell_type": "code",
   "execution_count": 56,
   "metadata": {},
   "outputs": [
    {
     "data": {
      "text/html": [
       "<div>\n",
       "<style scoped>\n",
       "    .dataframe tbody tr th:only-of-type {\n",
       "        vertical-align: middle;\n",
       "    }\n",
       "\n",
       "    .dataframe tbody tr th {\n",
       "        vertical-align: top;\n",
       "    }\n",
       "\n",
       "    .dataframe thead th {\n",
       "        text-align: right;\n",
       "    }\n",
       "</style>\n",
       "<table border=\"1\" class=\"dataframe\">\n",
       "  <thead>\n",
       "    <tr style=\"text-align: right;\">\n",
       "      <th></th>\n",
       "      <th>count</th>\n",
       "      <th>mean</th>\n",
       "    </tr>\n",
       "    <tr>\n",
       "      <th>AMORTIZATION</th>\n",
       "      <th></th>\n",
       "      <th></th>\n",
       "    </tr>\n",
       "  </thead>\n",
       "  <tbody>\n",
       "    <tr>\n",
       "      <th>60</th>\n",
       "      <td>1</td>\n",
       "      <td>1.000000</td>\n",
       "    </tr>\n",
       "    <tr>\n",
       "      <th>120</th>\n",
       "      <td>15</td>\n",
       "      <td>0.933333</td>\n",
       "    </tr>\n",
       "    <tr>\n",
       "      <th>180</th>\n",
       "      <td>56</td>\n",
       "      <td>0.767857</td>\n",
       "    </tr>\n",
       "    <tr>\n",
       "      <th>240</th>\n",
       "      <td>116</td>\n",
       "      <td>0.879310</td>\n",
       "    </tr>\n",
       "    <tr>\n",
       "      <th>300</th>\n",
       "      <td>3072</td>\n",
       "      <td>0.756836</td>\n",
       "    </tr>\n",
       "    <tr>\n",
       "      <th>360</th>\n",
       "      <td>41986</td>\n",
       "      <td>0.792264</td>\n",
       "    </tr>\n",
       "    <tr>\n",
       "      <th>420</th>\n",
       "      <td>11</td>\n",
       "      <td>0.363636</td>\n",
       "    </tr>\n",
       "    <tr>\n",
       "      <th>480</th>\n",
       "      <td>1</td>\n",
       "      <td>0.000000</td>\n",
       "    </tr>\n",
       "  </tbody>\n",
       "</table>\n",
       "</div>"
      ],
      "text/plain": [
       "              count      mean\n",
       "AMORTIZATION                 \n",
       "60                1  1.000000\n",
       "120              15  0.933333\n",
       "180              56  0.767857\n",
       "240             116  0.879310\n",
       "300            3072  0.756836\n",
       "360           41986  0.792264\n",
       "420              11  0.363636\n",
       "480               1  0.000000"
      ]
     },
     "execution_count": 56,
     "metadata": {},
     "output_type": "execute_result"
    }
   ],
   "source": [
    "train_raw.groupby('AMORTIZATION')['RESULT'].agg(['count','mean'])"
   ]
  },
  {
   "cell_type": "markdown",
   "metadata": {},
   "source": [
    "First, I'll convert amortization to yearly values. Second, I'll delete two outlier observations in the train set - the ones with 5 and 40 years of amortization respectively."
   ]
  },
  {
   "cell_type": "code",
   "execution_count": 57,
   "metadata": {},
   "outputs": [
    {
     "data": {
      "text/html": [
       "<div>\n",
       "<style scoped>\n",
       "    .dataframe tbody tr th:only-of-type {\n",
       "        vertical-align: middle;\n",
       "    }\n",
       "\n",
       "    .dataframe tbody tr th {\n",
       "        vertical-align: top;\n",
       "    }\n",
       "\n",
       "    .dataframe thead th {\n",
       "        text-align: right;\n",
       "    }\n",
       "</style>\n",
       "<table border=\"1\" class=\"dataframe\">\n",
       "  <thead>\n",
       "    <tr style=\"text-align: right;\">\n",
       "      <th></th>\n",
       "      <th>count</th>\n",
       "      <th>mean</th>\n",
       "    </tr>\n",
       "    <tr>\n",
       "      <th>AMORTIZATION</th>\n",
       "      <th></th>\n",
       "      <th></th>\n",
       "    </tr>\n",
       "  </thead>\n",
       "  <tbody>\n",
       "    <tr>\n",
       "      <th>10.0</th>\n",
       "      <td>15</td>\n",
       "      <td>0.933333</td>\n",
       "    </tr>\n",
       "    <tr>\n",
       "      <th>15.0</th>\n",
       "      <td>56</td>\n",
       "      <td>0.767857</td>\n",
       "    </tr>\n",
       "    <tr>\n",
       "      <th>20.0</th>\n",
       "      <td>116</td>\n",
       "      <td>0.879310</td>\n",
       "    </tr>\n",
       "    <tr>\n",
       "      <th>25.0</th>\n",
       "      <td>3072</td>\n",
       "      <td>0.756836</td>\n",
       "    </tr>\n",
       "    <tr>\n",
       "      <th>30.0</th>\n",
       "      <td>41986</td>\n",
       "      <td>0.792264</td>\n",
       "    </tr>\n",
       "    <tr>\n",
       "      <th>35.0</th>\n",
       "      <td>11</td>\n",
       "      <td>0.363636</td>\n",
       "    </tr>\n",
       "  </tbody>\n",
       "</table>\n",
       "</div>"
      ],
      "text/plain": [
       "              count      mean\n",
       "AMORTIZATION                 \n",
       "10.0             15  0.933333\n",
       "15.0             56  0.767857\n",
       "20.0            116  0.879310\n",
       "25.0           3072  0.756836\n",
       "30.0          41986  0.792264\n",
       "35.0             11  0.363636"
      ]
     },
     "execution_count": 57,
     "metadata": {},
     "output_type": "execute_result"
    }
   ],
   "source": [
    "# Convert amortization to yearly\n",
    "for dataset in [train_raw, test_raw]:\n",
    "    dataset['AMORTIZATION'] = dataset['AMORTIZATION'] / 12\n",
    "\n",
    "# Delete outliers\n",
    "train_raw = train_raw.drop(train_raw[train_raw['AMORTIZATION'] == 5].index)\n",
    "train_raw = train_raw.drop(train_raw[train_raw['AMORTIZATION'] == 40].index)\n",
    "\n",
    "# Check the data now\n",
    "train_raw.groupby('AMORTIZATION')['RESULT'].agg(['count','mean'])"
   ]
  },
  {
   "cell_type": "markdown",
   "metadata": {},
   "source": [
    "Test for correlation shows that we can accept that there is a positive correlation between amortization and funding rate at 1% significance level, but still, the coefficient estimate is ~ 0.01. This is the first reason why **I decided NOT to include amortization in my final model**, but the other one is that adding it didn't increase models' performance."
   ]
  },
  {
   "cell_type": "code",
   "execution_count": 58,
   "metadata": {},
   "outputs": [
    {
     "name": "stdout",
     "output_type": "stream",
     "text": [
      "Corr: 0.013\n",
      "P-value: 0.0056\n"
     ]
    }
   ],
   "source": [
    "# Correlation test: amortization and result\n",
    "pbis = stats.pointbiserialr(train_raw['AMORTIZATION'], train_raw['RESULT'])\n",
    "print('Corr:', round(pbis[0], 4))\n",
    "print('P-value:', round(pbis[1], 4))"
   ]
  },
  {
   "cell_type": "markdown",
   "metadata": {},
   "source": [
    "### Mortgage Amount requested, in dollars"
   ]
  },
  {
   "cell_type": "code",
   "execution_count": 59,
   "metadata": {},
   "outputs": [
    {
     "data": {
      "image/png": "[encoded data removed]",
      "text/plain": [
       "<Figure size 864x576 with 2 Axes>"
      ]
     },
     "metadata": {
      "image/png": {
       "height": 568,
       "width": 855
      },
      "needs_background": "light"
     },
     "output_type": "display_data"
    },
    {
     "name": "stdout",
     "output_type": "stream",
     "text": [
      "----------------------------------------------------------------------------------------------------\n",
      "Mortgage amount in the train set:\n"
     ]
    },
    {
     "data": {
      "text/plain": [
       "count      45256.0\n",
       "mean      424168.3\n",
       "std       294695.7\n",
       "min        15000.0\n",
       "25%       246320.0\n",
       "50%       357500.0\n",
       "75%       512000.0\n",
       "max      7000000.0\n",
       "Name: MORTGAGE AMOUNT, dtype: object"
      ]
     },
     "metadata": {},
     "output_type": "display_data"
    },
    {
     "name": "stdout",
     "output_type": "stream",
     "text": [
      "----------------------------------------------------------------------------------------------------\n",
      "Mortgage amount in the test set:\n"
     ]
    },
    {
     "data": {
      "text/plain": [
       "count      15214.0\n",
       "mean      423722.4\n",
       "std       289890.1\n",
       "min          333.9\n",
       "25%       244145.0\n",
       "50%       356250.0\n",
       "75%       511185.0\n",
       "max      4760000.0\n",
       "Name: MORTGAGE AMOUNT, dtype: object"
      ]
     },
     "metadata": {},
     "output_type": "display_data"
    }
   ],
   "source": [
    "# Create a figure to host 2 axes\n",
    "fig5 = plt.figure(figsize = (12, 8))\n",
    "\n",
    "# First axes - histograms\n",
    "axes51 = fig5.add_subplot(211)\n",
    "axes51.set_title('Mortgage amount: original data EDA', fontsize = 20)\n",
    "axes51.hist(train_raw['MORTGAGE AMOUNT'], bins = nbins_train, color = 'blue', label = 'Train')\n",
    "axes51.hist(test_raw['MORTGAGE AMOUNT'], bins = nbins_test, color = 'red', label = 'Test')\n",
    "axes51.legend()\n",
    "\n",
    "# Second axes - boxplots\n",
    "axes52 = fig5.add_subplot(212)\n",
    "axes52.boxplot([train_raw['MORTGAGE AMOUNT'], test_raw['MORTGAGE AMOUNT']], vert = False, labels = ['Train', 'Test'])\n",
    "\n",
    "# Show the figure\n",
    "plt.tight_layout()\n",
    "plt.show()\n",
    "\n",
    "# Print the five figure summary of the feature\n",
    "print(splitline)\n",
    "print('Mortgage amount in the train set:')\n",
    "display(train_raw['MORTGAGE AMOUNT'].describe().apply(\"{0:.1f}\".format))\n",
    "print(splitline)\n",
    "print('Mortgage amount in the test set:')\n",
    "display(test_raw['MORTGAGE AMOUNT'].describe().apply(\"{0:.1f}\".format))"
   ]
  },
  {
   "cell_type": "markdown",
   "metadata": {},
   "source": [
    "Preprocessing approach:\n",
    "1. Remove outliers in the train set: observations where mortgage amount > $4m\n",
    "1. Transform to LOG form"
   ]
  },
  {
   "cell_type": "code",
   "execution_count": 60,
   "metadata": {},
   "outputs": [],
   "source": [
    "# Remove outlying rows by mortgage amount\n",
    "train_raw.drop(train_raw[train_raw['MORTGAGE AMOUNT'] > 4000000].index, inplace = True)\n",
    "\n",
    "# Convert mortgage amount to LOG form in both sets\n",
    "for dataset in [train_raw, test_raw]:\n",
    "    dataset['MORTGAGE AMOUNT'] = np.log(dataset['MORTGAGE AMOUNT'])"
   ]
  },
  {
   "cell_type": "markdown",
   "metadata": {},
   "source": [
    "Same as with the previous features, while I was trying different combinations of features in my models, adding mortgage amount didn't increase their performance. **I didn't add \"morgage amount\" feature to my final model**."
   ]
  },
  {
   "cell_type": "markdown",
   "metadata": {},
   "source": [
    "### Interest rate requested\n",
    "Let's check how this feature is distributed:"
   ]
  },
  {
   "cell_type": "code",
   "execution_count": 61,
   "metadata": {},
   "outputs": [
    {
     "data": {
      "text/html": [
       "<div>\n",
       "<style scoped>\n",
       "    .dataframe tbody tr th:only-of-type {\n",
       "        vertical-align: middle;\n",
       "    }\n",
       "\n",
       "    .dataframe tbody tr th {\n",
       "        vertical-align: top;\n",
       "    }\n",
       "\n",
       "    .dataframe thead th {\n",
       "        text-align: right;\n",
       "    }\n",
       "</style>\n",
       "<table border=\"1\" class=\"dataframe\">\n",
       "  <thead>\n",
       "    <tr style=\"text-align: right;\">\n",
       "      <th></th>\n",
       "      <th>count</th>\n",
       "      <th>mean</th>\n",
       "    </tr>\n",
       "    <tr>\n",
       "      <th>RATE</th>\n",
       "      <th></th>\n",
       "      <th></th>\n",
       "    </tr>\n",
       "  </thead>\n",
       "  <tbody>\n",
       "    <tr>\n",
       "      <th>2.50</th>\n",
       "      <td>4</td>\n",
       "      <td>0.250000</td>\n",
       "    </tr>\n",
       "    <tr>\n",
       "      <th>2.75</th>\n",
       "      <td>3</td>\n",
       "      <td>0.000000</td>\n",
       "    </tr>\n",
       "    <tr>\n",
       "      <th>3.00</th>\n",
       "      <td>7</td>\n",
       "      <td>0.000000</td>\n",
       "    </tr>\n",
       "    <tr>\n",
       "      <th>3.25</th>\n",
       "      <td>5</td>\n",
       "      <td>0.200000</td>\n",
       "    </tr>\n",
       "    <tr>\n",
       "      <th>3.50</th>\n",
       "      <td>1700</td>\n",
       "      <td>0.891765</td>\n",
       "    </tr>\n",
       "    <tr>\n",
       "      <th>3.75</th>\n",
       "      <td>1233</td>\n",
       "      <td>0.815896</td>\n",
       "    </tr>\n",
       "    <tr>\n",
       "      <th>4.00</th>\n",
       "      <td>7054</td>\n",
       "      <td>0.835838</td>\n",
       "    </tr>\n",
       "    <tr>\n",
       "      <th>4.25</th>\n",
       "      <td>6372</td>\n",
       "      <td>0.794727</td>\n",
       "    </tr>\n",
       "    <tr>\n",
       "      <th>4.50</th>\n",
       "      <td>7366</td>\n",
       "      <td>0.799213</td>\n",
       "    </tr>\n",
       "    <tr>\n",
       "      <th>4.75</th>\n",
       "      <td>4846</td>\n",
       "      <td>0.783326</td>\n",
       "    </tr>\n",
       "    <tr>\n",
       "      <th>5.00</th>\n",
       "      <td>9388</td>\n",
       "      <td>0.783127</td>\n",
       "    </tr>\n",
       "    <tr>\n",
       "      <th>5.25</th>\n",
       "      <td>1944</td>\n",
       "      <td>0.719136</td>\n",
       "    </tr>\n",
       "    <tr>\n",
       "      <th>5.50</th>\n",
       "      <td>2648</td>\n",
       "      <td>0.734139</td>\n",
       "    </tr>\n",
       "    <tr>\n",
       "      <th>5.75</th>\n",
       "      <td>477</td>\n",
       "      <td>0.704403</td>\n",
       "    </tr>\n",
       "    <tr>\n",
       "      <th>6.00</th>\n",
       "      <td>1783</td>\n",
       "      <td>0.707235</td>\n",
       "    </tr>\n",
       "    <tr>\n",
       "      <th>6.25</th>\n",
       "      <td>76</td>\n",
       "      <td>0.565789</td>\n",
       "    </tr>\n",
       "    <tr>\n",
       "      <th>6.50</th>\n",
       "      <td>58</td>\n",
       "      <td>0.706897</td>\n",
       "    </tr>\n",
       "    <tr>\n",
       "      <th>6.75</th>\n",
       "      <td>6</td>\n",
       "      <td>0.833333</td>\n",
       "    </tr>\n",
       "    <tr>\n",
       "      <th>7.00</th>\n",
       "      <td>143</td>\n",
       "      <td>0.622378</td>\n",
       "    </tr>\n",
       "    <tr>\n",
       "      <th>7.50</th>\n",
       "      <td>1</td>\n",
       "      <td>1.000000</td>\n",
       "    </tr>\n",
       "    <tr>\n",
       "      <th>7.75</th>\n",
       "      <td>1</td>\n",
       "      <td>1.000000</td>\n",
       "    </tr>\n",
       "    <tr>\n",
       "      <th>8.00</th>\n",
       "      <td>74</td>\n",
       "      <td>0.810811</td>\n",
       "    </tr>\n",
       "    <tr>\n",
       "      <th>8.25</th>\n",
       "      <td>1</td>\n",
       "      <td>1.000000</td>\n",
       "    </tr>\n",
       "    <tr>\n",
       "      <th>8.50</th>\n",
       "      <td>3</td>\n",
       "      <td>1.000000</td>\n",
       "    </tr>\n",
       "    <tr>\n",
       "      <th>9.00</th>\n",
       "      <td>30</td>\n",
       "      <td>0.866667</td>\n",
       "    </tr>\n",
       "    <tr>\n",
       "      <th>9.25</th>\n",
       "      <td>1</td>\n",
       "      <td>0.000000</td>\n",
       "    </tr>\n",
       "    <tr>\n",
       "      <th>10.00</th>\n",
       "      <td>27</td>\n",
       "      <td>0.740741</td>\n",
       "    </tr>\n",
       "  </tbody>\n",
       "</table>\n",
       "</div>"
      ],
      "text/plain": [
       "       count      mean\n",
       "RATE                  \n",
       "2.50       4  0.250000\n",
       "2.75       3  0.000000\n",
       "3.00       7  0.000000\n",
       "3.25       5  0.200000\n",
       "3.50    1700  0.891765\n",
       "3.75    1233  0.815896\n",
       "4.00    7054  0.835838\n",
       "4.25    6372  0.794727\n",
       "4.50    7366  0.799213\n",
       "4.75    4846  0.783326\n",
       "5.00    9388  0.783127\n",
       "5.25    1944  0.719136\n",
       "5.50    2648  0.734139\n",
       "5.75     477  0.704403\n",
       "6.00    1783  0.707235\n",
       "6.25      76  0.565789\n",
       "6.50      58  0.706897\n",
       "6.75       6  0.833333\n",
       "7.00     143  0.622378\n",
       "7.50       1  1.000000\n",
       "7.75       1  1.000000\n",
       "8.00      74  0.810811\n",
       "8.25       1  1.000000\n",
       "8.50       3  1.000000\n",
       "9.00      30  0.866667\n",
       "9.25       1  0.000000\n",
       "10.00     27  0.740741"
      ]
     },
     "execution_count": 61,
     "metadata": {},
     "output_type": "execute_result"
    }
   ],
   "source": [
    "train_raw.groupby('RATE')['RESULT'].agg(['count','mean'])"
   ]
  },
  {
   "cell_type": "markdown",
   "metadata": {},
   "source": [
    "Looking at this data I clearly see that the wast majority of applications submitted a rate between 3.5 and 6.0 inclusive. I decided to limit the range of this variable by this interval, and make all other values equal to 3.5 or 6.0, depending on whether they are below or above this interval:"
   ]
  },
  {
   "cell_type": "code",
   "execution_count": 62,
   "metadata": {},
   "outputs": [],
   "source": [
    "# Replace extreme unpopular rates by min and max of popular\n",
    "for dataset in [train_raw, test_raw]:\n",
    "    dataset.loc[dataset['RATE'] < 3.5, 'RATE'] = 3.5\n",
    "    dataset.loc[dataset['RATE'] > 6.0, 'RATE'] = 6.0"
   ]
  },
  {
   "cell_type": "markdown",
   "metadata": {},
   "source": [
    "**Rate feature was included in my final model.**"
   ]
  },
  {
   "cell_type": "markdown",
   "metadata": {},
   "source": [
    "### Mortgage Purpose: purchase or refinance"
   ]
  },
  {
   "cell_type": "code",
   "execution_count": 63,
   "metadata": {},
   "outputs": [
    {
     "data": {
      "text/html": [
       "<div>\n",
       "<style scoped>\n",
       "    .dataframe tbody tr th:only-of-type {\n",
       "        vertical-align: middle;\n",
       "    }\n",
       "\n",
       "    .dataframe tbody tr th {\n",
       "        vertical-align: top;\n",
       "    }\n",
       "\n",
       "    .dataframe thead th {\n",
       "        text-align: right;\n",
       "    }\n",
       "</style>\n",
       "<table border=\"1\" class=\"dataframe\">\n",
       "  <thead>\n",
       "    <tr style=\"text-align: right;\">\n",
       "      <th></th>\n",
       "      <th>count</th>\n",
       "      <th>mean</th>\n",
       "    </tr>\n",
       "    <tr>\n",
       "      <th>MORTGAGE PURPOSE</th>\n",
       "      <th></th>\n",
       "      <th></th>\n",
       "    </tr>\n",
       "  </thead>\n",
       "  <tbody>\n",
       "    <tr>\n",
       "      <th>Purchase</th>\n",
       "      <td>24242</td>\n",
       "      <td>0.828438</td>\n",
       "    </tr>\n",
       "    <tr>\n",
       "      <th>Refinance</th>\n",
       "      <td>21009</td>\n",
       "      <td>0.745633</td>\n",
       "    </tr>\n",
       "  </tbody>\n",
       "</table>\n",
       "</div>"
      ],
      "text/plain": [
       "                  count      mean\n",
       "MORTGAGE PURPOSE                 \n",
       "Purchase          24242  0.828438\n",
       "Refinance         21009  0.745633"
      ]
     },
     "execution_count": 63,
     "metadata": {},
     "output_type": "execute_result"
    }
   ],
   "source": [
    "# Quick check of the distribution\n",
    "train_raw.groupby('MORTGAGE PURPOSE')['RESULT'].agg(['count','mean'])"
   ]
  },
  {
   "cell_type": "markdown",
   "metadata": {},
   "source": [
    "I see that almost half of mortgages in the data are taken for new accomodation, while the other half is for refinancing old debts. It's also clear that in the latter case, acceptance rate was lower. **For the further use in the model, i encode this feature to binary, and include to the final model**:"
   ]
  },
  {
   "cell_type": "code",
   "execution_count": 64,
   "metadata": {},
   "outputs": [],
   "source": [
    "# Encode purpose to binary\n",
    "for dataset in [train_raw, test_raw]:\n",
    "    dataset['MORTGAGE PURPOSE'] = dataset['MORTGAGE PURPOSE'].map({'Purchase': 1, 'Refinance': 0})\n",
    "    dataset.rename({'MORTGAGE PURPOSE':'Purchase'}, axis = 1, inplace = True)"
   ]
  },
  {
   "cell_type": "markdown",
   "metadata": {},
   "source": [
    "### Property Type"
   ]
  },
  {
   "cell_type": "code",
   "execution_count": 65,
   "metadata": {},
   "outputs": [
    {
     "data": {
      "text/html": [
       "<div>\n",
       "<style scoped>\n",
       "    .dataframe tbody tr th:only-of-type {\n",
       "        vertical-align: middle;\n",
       "    }\n",
       "\n",
       "    .dataframe tbody tr th {\n",
       "        vertical-align: top;\n",
       "    }\n",
       "\n",
       "    .dataframe thead th {\n",
       "        text-align: right;\n",
       "    }\n",
       "</style>\n",
       "<table border=\"1\" class=\"dataframe\">\n",
       "  <thead>\n",
       "    <tr style=\"text-align: right;\">\n",
       "      <th></th>\n",
       "      <th>count</th>\n",
       "      <th>mean</th>\n",
       "    </tr>\n",
       "    <tr>\n",
       "      <th>PROPERTY TYPE</th>\n",
       "      <th></th>\n",
       "      <th></th>\n",
       "    </tr>\n",
       "  </thead>\n",
       "  <tbody>\n",
       "    <tr>\n",
       "      <th>Duplex</th>\n",
       "      <td>463</td>\n",
       "      <td>0.699784</td>\n",
       "    </tr>\n",
       "    <tr>\n",
       "      <th>Fourplex</th>\n",
       "      <td>115</td>\n",
       "      <td>0.600000</td>\n",
       "    </tr>\n",
       "    <tr>\n",
       "      <th>High Rise</th>\n",
       "      <td>5831</td>\n",
       "      <td>0.817699</td>\n",
       "    </tr>\n",
       "    <tr>\n",
       "      <th>Semi-Detached</th>\n",
       "      <td>4204</td>\n",
       "      <td>0.811132</td>\n",
       "    </tr>\n",
       "    <tr>\n",
       "      <th>Single Detached</th>\n",
       "      <td>29131</td>\n",
       "      <td>0.780268</td>\n",
       "    </tr>\n",
       "    <tr>\n",
       "      <th>Townhouse Condominium</th>\n",
       "      <td>2294</td>\n",
       "      <td>0.818221</td>\n",
       "    </tr>\n",
       "    <tr>\n",
       "      <th>Townhouse Freehold</th>\n",
       "      <td>3020</td>\n",
       "      <td>0.805960</td>\n",
       "    </tr>\n",
       "    <tr>\n",
       "      <th>Triplex</th>\n",
       "      <td>193</td>\n",
       "      <td>0.704663</td>\n",
       "    </tr>\n",
       "  </tbody>\n",
       "</table>\n",
       "</div>"
      ],
      "text/plain": [
       "                       count      mean\n",
       "PROPERTY TYPE                         \n",
       "Duplex                   463  0.699784\n",
       "Fourplex                 115  0.600000\n",
       "High Rise               5831  0.817699\n",
       "Semi-Detached           4204  0.811132\n",
       "Single Detached        29131  0.780268\n",
       "Townhouse Condominium   2294  0.818221\n",
       "Townhouse Freehold      3020  0.805960\n",
       "Triplex                  193  0.704663"
      ]
     },
     "execution_count": 65,
     "metadata": {},
     "output_type": "execute_result"
    }
   ],
   "source": [
    "# Quick check of the distribution\n",
    "train_raw.groupby('PROPERTY TYPE')['RESULT'].agg(['count','mean'])"
   ]
  },
  {
   "cell_type": "markdown",
   "metadata": {},
   "source": [
    "Here, from the first sight, the trend is the following: less common property types have low funding rate. I transformed this feature into binary, indicating whether a given accomodation is of a common type or not:"
   ]
  },
  {
   "cell_type": "code",
   "execution_count": 66,
   "metadata": {},
   "outputs": [
    {
     "data": {
      "text/html": [
       "<div>\n",
       "<style scoped>\n",
       "    .dataframe tbody tr th:only-of-type {\n",
       "        vertical-align: middle;\n",
       "    }\n",
       "\n",
       "    .dataframe tbody tr th {\n",
       "        vertical-align: top;\n",
       "    }\n",
       "\n",
       "    .dataframe thead th {\n",
       "        text-align: right;\n",
       "    }\n",
       "</style>\n",
       "<table border=\"1\" class=\"dataframe\">\n",
       "  <thead>\n",
       "    <tr style=\"text-align: right;\">\n",
       "      <th></th>\n",
       "      <th>count</th>\n",
       "      <th>mean</th>\n",
       "    </tr>\n",
       "    <tr>\n",
       "      <th>Common_type</th>\n",
       "      <th></th>\n",
       "      <th></th>\n",
       "    </tr>\n",
       "  </thead>\n",
       "  <tbody>\n",
       "    <tr>\n",
       "      <th>0</th>\n",
       "      <td>771</td>\n",
       "      <td>0.686122</td>\n",
       "    </tr>\n",
       "    <tr>\n",
       "      <th>1</th>\n",
       "      <td>44480</td>\n",
       "      <td>0.791794</td>\n",
       "    </tr>\n",
       "  </tbody>\n",
       "</table>\n",
       "</div>"
      ],
      "text/plain": [
       "             count      mean\n",
       "Common_type                 \n",
       "0              771  0.686122\n",
       "1            44480  0.791794"
      ]
     },
     "execution_count": 66,
     "metadata": {},
     "output_type": "execute_result"
    }
   ],
   "source": [
    "# Simplify the property type column\n",
    "common_types = ['Single Detached', 'High Rise', 'Semi-Detached', 'Townhouse Freehold', 'Townhouse Condominium']\n",
    "rare_types = ['Duplex', 'Triplex', 'Fourplex']\n",
    "\n",
    "for dataset in [train_raw, test_raw]:\n",
    "    dataset['PROPERTY TYPE'].replace(common_types, 'Common', inplace = True)\n",
    "    dataset['PROPERTY TYPE'].replace(rare_types, 'Rare', inplace = True)\n",
    "    dataset['PROPERTY TYPE'] = dataset['PROPERTY TYPE'].map({'Common': 1, 'Rare': 0})\n",
    "    dataset.rename({'PROPERTY TYPE':'Common_type'}, axis = 1, inplace = True)\n",
    "    \n",
    "# What we get:\n",
    "train_raw.groupby('Common_type')['RESULT'].agg(['count','mean'])"
   ]
  },
  {
   "cell_type": "markdown",
   "metadata": {},
   "source": [
    "'Common_type' feature, which if a binary transformation of 'Purpose', **was included in the final model**."
   ]
  },
  {
   "cell_type": "markdown",
   "metadata": {},
   "source": [
    "### Term of the mortgage requested\n",
    "I decided **not to include this feature into analysis**, because amortization period is more relevant in affecting the probability of funding.\n",
    "\n",
    "The difference between amortization and term is decently explained there: https://www.moneysense.ca/spend/real-estate/buying/the-difference-between-mortgage-amortization-and-term/"
   ]
  },
  {
   "cell_type": "markdown",
   "metadata": {},
   "source": [
    "### FSA – the first three characters of the postal code, designating an area where the property is\n",
    "I began by checking the number of distinct values of this feature:"
   ]
  },
  {
   "cell_type": "code",
   "execution_count": 67,
   "metadata": {},
   "outputs": [
    {
     "name": "stdout",
     "output_type": "stream",
     "text": [
      "L7A    898\n",
      "M5V    671\n",
      "L6R    657\n",
      "L6P    614\n",
      "L6X    544\n",
      "L4C    513\n",
      "L4N    505\n",
      "L6Y    490\n",
      "L9T    477\n",
      "L6A    464\n",
      "M2N    442\n",
      "L4H    416\n",
      "L4E    373\n",
      "L6S    343\n",
      "M1B    342\n",
      "L5M    334\n",
      "L4J    332\n",
      "L5B    331\n",
      "L1T    314\n",
      "L3S    304\n",
      "L1Z    301\n",
      "L4G    301\n",
      "L3Z    299\n",
      "L5N    289\n",
      "L6C    287\n",
      "L1K    280\n",
      "L3R    272\n",
      "L1V    271\n",
      "L6V    263\n",
      "L3T    262\n",
      "      ... \n",
      "G6Y      1\n",
      "H4C      1\n",
      "T9A      1\n",
      "G3J      1\n",
      "G3N      1\n",
      "M1Z      1\n",
      "P4P      1\n",
      "G2M      1\n",
      "J1J      1\n",
      "N9C      1\n",
      "J6T      1\n",
      "E2G      1\n",
      "C0C      1\n",
      "J1E      1\n",
      "C4C      1\n",
      "N0K      1\n",
      "J4P      1\n",
      "R1N      1\n",
      "N6W      1\n",
      "G1N      1\n",
      "V0H      1\n",
      "J1H      1\n",
      "R6M      1\n",
      "V6T      1\n",
      "T5H      1\n",
      "T1G      1\n",
      "R3P      1\n",
      "J3M      1\n",
      "V1B      1\n",
      "V9K      1\n",
      "Name: FSA, Length: 1139, dtype: int64\n"
     ]
    }
   ],
   "source": [
    "print(train_raw.FSA.value_counts())"
   ]
  },
  {
   "cell_type": "markdown",
   "metadata": {},
   "source": [
    "It has 1139 distinct values, which are postcodes. Since the time of the competition was limited, I decided not to continue the preprocessing of this feature, and **not to include it in the analysis**."
   ]
  },
  {
   "cell_type": "markdown",
   "metadata": {},
   "source": [
    "### Age Range of the main applicant"
   ]
  },
  {
   "cell_type": "code",
   "execution_count": 68,
   "metadata": {},
   "outputs": [
    {
     "data": {
      "text/html": [
       "<div>\n",
       "<style scoped>\n",
       "    .dataframe tbody tr th:only-of-type {\n",
       "        vertical-align: middle;\n",
       "    }\n",
       "\n",
       "    .dataframe tbody tr th {\n",
       "        vertical-align: top;\n",
       "    }\n",
       "\n",
       "    .dataframe thead th {\n",
       "        text-align: right;\n",
       "    }\n",
       "</style>\n",
       "<table border=\"1\" class=\"dataframe\">\n",
       "  <thead>\n",
       "    <tr style=\"text-align: right;\">\n",
       "      <th></th>\n",
       "      <th>count</th>\n",
       "      <th>mean</th>\n",
       "    </tr>\n",
       "    <tr>\n",
       "      <th>AGE RANGE</th>\n",
       "      <th></th>\n",
       "      <th></th>\n",
       "    </tr>\n",
       "  </thead>\n",
       "  <tbody>\n",
       "    <tr>\n",
       "      <th>25-29</th>\n",
       "      <td>2520</td>\n",
       "      <td>0.804762</td>\n",
       "    </tr>\n",
       "    <tr>\n",
       "      <th>30-34</th>\n",
       "      <td>4526</td>\n",
       "      <td>0.805789</td>\n",
       "    </tr>\n",
       "    <tr>\n",
       "      <th>35-39</th>\n",
       "      <td>5797</td>\n",
       "      <td>0.797999</td>\n",
       "    </tr>\n",
       "    <tr>\n",
       "      <th>40-44</th>\n",
       "      <td>6838</td>\n",
       "      <td>0.792337</td>\n",
       "    </tr>\n",
       "    <tr>\n",
       "      <th>45-49</th>\n",
       "      <td>7602</td>\n",
       "      <td>0.790976</td>\n",
       "    </tr>\n",
       "    <tr>\n",
       "      <th>50-54</th>\n",
       "      <td>6742</td>\n",
       "      <td>0.781222</td>\n",
       "    </tr>\n",
       "    <tr>\n",
       "      <th>55-59</th>\n",
       "      <td>4659</td>\n",
       "      <td>0.770552</td>\n",
       "    </tr>\n",
       "    <tr>\n",
       "      <th>60-64</th>\n",
       "      <td>2764</td>\n",
       "      <td>0.781838</td>\n",
       "    </tr>\n",
       "    <tr>\n",
       "      <th>65-69</th>\n",
       "      <td>1637</td>\n",
       "      <td>0.779475</td>\n",
       "    </tr>\n",
       "    <tr>\n",
       "      <th>70 and over</th>\n",
       "      <td>1330</td>\n",
       "      <td>0.780451</td>\n",
       "    </tr>\n",
       "    <tr>\n",
       "      <th>Under 25</th>\n",
       "      <td>836</td>\n",
       "      <td>0.818182</td>\n",
       "    </tr>\n",
       "  </tbody>\n",
       "</table>\n",
       "</div>"
      ],
      "text/plain": [
       "             count      mean\n",
       "AGE RANGE                   \n",
       "25-29         2520  0.804762\n",
       "30-34         4526  0.805789\n",
       "35-39         5797  0.797999\n",
       "40-44         6838  0.792337\n",
       "45-49         7602  0.790976\n",
       "50-54         6742  0.781222\n",
       "55-59         4659  0.770552\n",
       "60-64         2764  0.781838\n",
       "65-69         1637  0.779475\n",
       "70 and over   1330  0.780451\n",
       "Under 25       836  0.818182"
      ]
     },
     "execution_count": 68,
     "metadata": {},
     "output_type": "execute_result"
    }
   ],
   "source": [
    "# Quick check of the distribution\n",
    "train_raw.groupby('AGE RANGE')['RESULT'].agg(['count','mean'])"
   ]
  },
  {
   "cell_type": "markdown",
   "metadata": {},
   "source": [
    "It looks like there is a negative correlation between age and funding rate. I decided to convert this feature from band format to numeric format, and to do so I assume that the age of every applicant is equal to the mean age within his interval:"
   ]
  },
  {
   "cell_type": "code",
   "execution_count": 69,
   "metadata": {},
   "outputs": [],
   "source": [
    "# Convert age ranges to range means\n",
    "for dataset in [train_raw, test_raw]:\n",
    "    dataset['AGE'] = dataset['AGE RANGE'].map({'Under 25': 23,\n",
    "                                               '25-29': 27,\n",
    "                                               '30-34': 32,\n",
    "                                               '35-39': 37,\n",
    "                                               '40-44': 42,\n",
    "                                               '45-49': 47,\n",
    "                                               '50-54': 52,\n",
    "                                               '55-59': 57,\n",
    "                                               '60-64': 62,\n",
    "                                               '65-69': 67,\n",
    "                                               '70 and over': 72})"
   ]
  },
  {
   "cell_type": "markdown",
   "metadata": {},
   "source": [
    "**Age or age range inself were not included in the final model**. However, it was used in engineering a new feature which will be introduced later in this workbook."
   ]
  },
  {
   "cell_type": "markdown",
   "metadata": {},
   "source": [
    "### Gender"
   ]
  },
  {
   "cell_type": "code",
   "execution_count": 70,
   "metadata": {},
   "outputs": [
    {
     "data": {
      "text/html": [
       "<div>\n",
       "<style scoped>\n",
       "    .dataframe tbody tr th:only-of-type {\n",
       "        vertical-align: middle;\n",
       "    }\n",
       "\n",
       "    .dataframe tbody tr th {\n",
       "        vertical-align: top;\n",
       "    }\n",
       "\n",
       "    .dataframe thead th {\n",
       "        text-align: right;\n",
       "    }\n",
       "</style>\n",
       "<table border=\"1\" class=\"dataframe\">\n",
       "  <thead>\n",
       "    <tr style=\"text-align: right;\">\n",
       "      <th></th>\n",
       "      <th>count</th>\n",
       "      <th>mean</th>\n",
       "    </tr>\n",
       "    <tr>\n",
       "      <th>GENDER</th>\n",
       "      <th></th>\n",
       "      <th></th>\n",
       "    </tr>\n",
       "  </thead>\n",
       "  <tbody>\n",
       "    <tr>\n",
       "      <th>Female</th>\n",
       "      <td>14214</td>\n",
       "      <td>0.792810</td>\n",
       "    </tr>\n",
       "    <tr>\n",
       "      <th>Male</th>\n",
       "      <td>24688</td>\n",
       "      <td>0.783052</td>\n",
       "    </tr>\n",
       "    <tr>\n",
       "      <th>Unknown</th>\n",
       "      <td>6349</td>\n",
       "      <td>0.810679</td>\n",
       "    </tr>\n",
       "  </tbody>\n",
       "</table>\n",
       "</div>"
      ],
      "text/plain": [
       "         count      mean\n",
       "GENDER                  \n",
       "Female   14214  0.792810\n",
       "Male     24688  0.783052\n",
       "Unknown   6349  0.810679"
      ]
     },
     "execution_count": 70,
     "metadata": {},
     "output_type": "execute_result"
    }
   ],
   "source": [
    "# Quick check of the distribution\n",
    "train_raw.groupby('GENDER')['RESULT'].agg(['count','mean'])"
   ]
  },
  {
   "cell_type": "markdown",
   "metadata": {},
   "source": [
    "Looks like we can do nothing with this feature. The funding fate within men and women is almost equal, and around 13% of values in this feature are missing. **Didn't include it in my models**."
   ]
  },
  {
   "cell_type": "markdown",
   "metadata": {},
   "source": [
    "### Income, in USD per year"
   ]
  },
  {
   "cell_type": "code",
   "execution_count": 71,
   "metadata": {},
   "outputs": [
    {
     "data": {
      "image/png": "[encoded data removed]",
      "text/plain": [
       "<Figure size 864x576 with 2 Axes>"
      ]
     },
     "metadata": {
      "image/png": {
       "height": 568,
       "width": 856
      },
      "needs_background": "light"
     },
     "output_type": "display_data"
    },
    {
     "name": "stdout",
     "output_type": "stream",
     "text": [
      "----------------------------------------------------------------------------------------------------\n",
      "Income in the train set:\n"
     ]
    },
    {
     "data": {
      "text/plain": [
       "count      45251.0\n",
       "mean      125493.1\n",
       "std       114001.0\n",
       "min         2000.0\n",
       "25%        69000.0\n",
       "50%        98000.0\n",
       "75%       145000.0\n",
       "max      3860000.0\n",
       "Name: INCOME, dtype: object"
      ]
     },
     "metadata": {},
     "output_type": "display_data"
    },
    {
     "name": "stdout",
     "output_type": "stream",
     "text": [
      "----------------------------------------------------------------------------------------------------\n",
      "Income in the test set:\n"
     ]
    },
    {
     "data": {
      "text/plain": [
       "count      15214.0\n",
       "mean      124187.4\n",
       "std       111012.2\n",
       "min         1000.0\n",
       "25%        67000.0\n",
       "50%        97000.0\n",
       "75%       144000.0\n",
       "max      2125000.0\n",
       "Name: INCOME, dtype: object"
      ]
     },
     "metadata": {},
     "output_type": "display_data"
    }
   ],
   "source": [
    "# Create a figure to host 2 axes\n",
    "fig6 = plt.figure(figsize = (12, 8))\n",
    "\n",
    "# First axes - histograms\n",
    "axes61 = fig6.add_subplot(211)\n",
    "axes61.set_title('Income: original data EDA', fontsize = 20)\n",
    "axes61.hist(train_raw['INCOME'], bins = nbins_train, color = 'blue', label = 'Train')\n",
    "axes61.hist(test_raw['INCOME'], bins = nbins_test, color = 'red', label = 'Test')\n",
    "axes61.legend()\n",
    "\n",
    "# Second axes - boxplots\n",
    "axes62 = fig6.add_subplot(212)\n",
    "axes62.boxplot([train_raw['INCOME'], test_raw['INCOME']], vert = False, labels = ['Train', 'Test'])\n",
    "\n",
    "# Show the figure\n",
    "plt.tight_layout()\n",
    "plt.show()\n",
    "\n",
    "# Print the five figure summary of the feature\n",
    "print(splitline)\n",
    "print('Income in the train set:')\n",
    "display(train_raw['INCOME'].describe().apply(\"{0:.1f}\".format))\n",
    "print(splitline)\n",
    "print('Income in the test set:')\n",
    "display(test_raw['INCOME'].describe().apply(\"{0:.1f}\".format))"
   ]
  },
  {
   "cell_type": "markdown",
   "metadata": {},
   "source": [
    "Preprocessing approach here: remove a few largest outliers and convert to log form"
   ]
  },
  {
   "cell_type": "code",
   "execution_count": 72,
   "metadata": {},
   "outputs": [
    {
     "name": "stdout",
     "output_type": "stream",
     "text": [
      "To drop: 9\n"
     ]
    }
   ],
   "source": [
    "# Check how many income values exceed $2m\n",
    "dropbound_inc = 2000000\n",
    "print('To drop:', train_raw[train_raw['INCOME'] > dropbound_inc].count()['INCOME'])\n",
    "\n",
    "# Drop these values\n",
    "train_raw = train_raw.drop(train_raw[train_raw['INCOME'] > dropbound_inc].index)\n",
    "\n",
    "# Convert income to LOG form in both sets\n",
    "for dataset in [train_raw, test_raw]:\n",
    "    dataset['INCOME'] = np.log(dataset['INCOME'])"
   ]
  },
  {
   "cell_type": "markdown",
   "metadata": {},
   "source": [
    "In the end, **income feature iteslf was not included in the final model**, however, it was used in features engineering."
   ]
  },
  {
   "cell_type": "markdown",
   "metadata": {},
   "source": [
    "### Income type\n",
    "In competiton's documentation it is said that this feature is \"Numericalized employment status type for the income\". I spent around an hour surfing the web, looking for any information related to such classification, but found nothing. In the train set, this feature represents ±25 categories. **Didn't include it in the models**."
   ]
  },
  {
   "cell_type": "markdown",
   "metadata": {},
   "source": [
    "### NAICS code of the job category\n",
    "This feature is more clear. NAICS table can be found here: https://www.naics.com/business-lists/counts-by-naics-code/#countsByNAICS , and it has a finite list of industries (around 30). I checked its distiribution in the test set and, since there was no category which significantly stood out from others in terms of funding rate, **I decided to concentrate on other features and not to add it to the final model**."
   ]
  },
  {
   "cell_type": "markdown",
   "metadata": {},
   "source": [
    "### Credit score\n",
    "Credit score is a numeric feature, and I splitted it into bands to get quick insights:"
   ]
  },
  {
   "cell_type": "code",
   "execution_count": 73,
   "metadata": {},
   "outputs": [
    {
     "data": {
      "text/html": [
       "<div>\n",
       "<style scoped>\n",
       "    .dataframe tbody tr th:only-of-type {\n",
       "        vertical-align: middle;\n",
       "    }\n",
       "\n",
       "    .dataframe tbody tr th {\n",
       "        vertical-align: top;\n",
       "    }\n",
       "\n",
       "    .dataframe thead th {\n",
       "        text-align: right;\n",
       "    }\n",
       "</style>\n",
       "<table border=\"1\" class=\"dataframe\">\n",
       "  <thead>\n",
       "    <tr style=\"text-align: right;\">\n",
       "      <th></th>\n",
       "      <th>count</th>\n",
       "      <th>mean</th>\n",
       "    </tr>\n",
       "    <tr>\n",
       "      <th>Creditscore_band</th>\n",
       "      <th></th>\n",
       "      <th></th>\n",
       "    </tr>\n",
       "  </thead>\n",
       "  <tbody>\n",
       "    <tr>\n",
       "      <th>(-0.001, 608.0]</th>\n",
       "      <td>9080</td>\n",
       "      <td>0.772137</td>\n",
       "    </tr>\n",
       "    <tr>\n",
       "      <th>(608.0, 656.0]</th>\n",
       "      <td>9031</td>\n",
       "      <td>0.797032</td>\n",
       "    </tr>\n",
       "    <tr>\n",
       "      <th>(656.0, 698.0]</th>\n",
       "      <td>9162</td>\n",
       "      <td>0.797642</td>\n",
       "    </tr>\n",
       "    <tr>\n",
       "      <th>(698.0, 750.0]</th>\n",
       "      <td>9049</td>\n",
       "      <td>0.804840</td>\n",
       "    </tr>\n",
       "    <tr>\n",
       "      <th>(750.0, 899.0]</th>\n",
       "      <td>8920</td>\n",
       "      <td>0.778251</td>\n",
       "    </tr>\n",
       "  </tbody>\n",
       "</table>\n",
       "</div>"
      ],
      "text/plain": [
       "                  count      mean\n",
       "Creditscore_band                 \n",
       "(-0.001, 608.0]    9080  0.772137\n",
       "(608.0, 656.0]     9031  0.797032\n",
       "(656.0, 698.0]     9162  0.797642\n",
       "(698.0, 750.0]     9049  0.804840\n",
       "(750.0, 899.0]     8920  0.778251"
      ]
     },
     "execution_count": 73,
     "metadata": {},
     "output_type": "execute_result"
    }
   ],
   "source": [
    "# Create a new temporary feature - Creditscore band. I divided Credit score into 5 bans based on quantiles of distribution.\n",
    "train_raw['Creditscore_band'] = pd.qcut(train_raw['CREDIT SCORE'], 5)\n",
    "\n",
    "# Quick check of the distribution\n",
    "train_raw.groupby('Creditscore_band')['RESULT'].agg(['count','mean'])"
   ]
  },
  {
   "cell_type": "code",
   "execution_count": 74,
   "metadata": {},
   "outputs": [
    {
     "name": "stdout",
     "output_type": "stream",
     "text": [
      "Corr: 0.0147\n",
      "P-value: 0.0018\n"
     ]
    }
   ],
   "source": [
    "# Correlation test: credit score and result\n",
    "pbis = stats.pointbiserialr(train_raw['CREDIT SCORE'], train_raw['RESULT'])\n",
    "print('Corr:', round(pbis[0], 4))\n",
    "print('P-value:', round(pbis[1], 4))"
   ]
  },
  {
   "cell_type": "markdown",
   "metadata": {},
   "source": [
    "**I didn't include this feature to the final model** because the correlation coefficient value is extremely low. What is more, it seemed very strange for me that there is a decline in funding rate in last band, even though it is the same size as other bands."
   ]
  },
  {
   "cell_type": "markdown",
   "metadata": {},
   "source": [
    "## Adding new features\n",
    "Looking for a better model performance, **I tried to create many features manually. Only three of them were included in my final model**, and in this section I present how I created them.\n",
    "### LTI - loan to income\n",
    "Let's create it and check if it is correlated to the target:"
   ]
  },
  {
   "cell_type": "code",
   "execution_count": 75,
   "metadata": {},
   "outputs": [
    {
     "name": "stdout",
     "output_type": "stream",
     "text": [
      "Corr: -0.0451\n",
      "P-value: 0.0\n"
     ]
    }
   ],
   "source": [
    "# Create LTI feature\n",
    "for dataset in [train_raw, test_raw]:\n",
    "    dataset['LTI'] = dataset['MORTGAGE AMOUNT'] / dataset['INCOME']\n",
    "\n",
    "# Correlation test: LTI and result\n",
    "pbis = stats.pointbiserialr(train_raw['LTI'], train_raw['RESULT'])\n",
    "print('Corr:', round(pbis[0], 4))\n",
    "print('P-value:', round(pbis[1], 4))"
   ]
  },
  {
   "cell_type": "markdown",
   "metadata": {},
   "source": [
    "### PTI - payment to income"
   ]
  },
  {
   "cell_type": "code",
   "execution_count": 76,
   "metadata": {},
   "outputs": [
    {
     "name": "stdout",
     "output_type": "stream",
     "text": [
      "Corr: -0.0745\n",
      "P-value: 0.0\n"
     ]
    }
   ],
   "source": [
    "# Create PTI feature\n",
    "for dataset in [train_raw, test_raw]:\n",
    "    dataset['PTI'] = dataset['MPAYMENT'] / dataset['INCOME']\n",
    "    \n",
    "# Correlation test: PTI and result\n",
    "pbis = stats.pointbiserialr(train_raw['PTI'], train_raw['RESULT'])\n",
    "print('Corr:', round(pbis[0], 4))\n",
    "print('P-value:', round(pbis[1], 4))"
   ]
  },
  {
   "cell_type": "markdown",
   "metadata": {},
   "source": [
    "### Endage - the age when the mortgage is expected to be repaid"
   ]
  },
  {
   "cell_type": "code",
   "execution_count": 77,
   "metadata": {},
   "outputs": [
    {
     "name": "stdout",
     "output_type": "stream",
     "text": [
      "Corr: -0.0224\n",
      "P-value: 0.0\n"
     ]
    }
   ],
   "source": [
    "# Create new feature - ENDAGE\n",
    "for dataset in [train_raw, test_raw]:\n",
    "    dataset['ENDAGE'] = dataset['AGE'] + dataset['AMORTIZATION']\n",
    "    \n",
    "# Correlation test: ENDAGE and result\n",
    "pbis = stats.pointbiserialr(train_raw['ENDAGE'], train_raw['RESULT'])\n",
    "print('Corr:', round(pbis[0], 4))\n",
    "print('P-value:', round(pbis[1], 4))"
   ]
  },
  {
   "cell_type": "markdown",
   "metadata": {},
   "source": [
    "Some of these features have lower absolute value of correlation coefficient than those features that were not included in final model. I decided to add these features after trying many combinations of features, however, it surprised me from the statistical perspective. One of the areas which I decided to focus on after this competition was statistics: why features with very small correlation coefficients drive target much better than those with higher correlation?"
   ]
  },
  {
   "cell_type": "markdown",
   "metadata": {},
   "source": [
    "## Model development\n",
    "### Last look at our data"
   ]
  },
  {
   "cell_type": "code",
   "execution_count": 78,
   "metadata": {},
   "outputs": [
    {
     "name": "stdout",
     "output_type": "stream",
     "text": [
      "Train data info:\n",
      "<class 'pandas.core.frame.DataFrame'>\n",
      "Int64Index: 45242 entries, 0 to 45641\n",
      "Data columns (total 31 columns):\n",
      "Unique_ID            45242 non-null object\n",
      "MORTGAGE NUMBER      45242 non-null int64\n",
      "PROPERTY VALUE       45242 non-null float64\n",
      "MORTGAGE PAYMENT     45242 non-null int64\n",
      "GDS                  45242 non-null float64\n",
      "LTV                  45242 non-null float64\n",
      "TDS                  45242 non-null float64\n",
      "AMORTIZATION         45242 non-null float64\n",
      "MORTGAGE AMOUNT      45242 non-null float64\n",
      "RATE                 45242 non-null float64\n",
      "Purchase             45242 non-null int64\n",
      "PAYMENT FREQUENCY    45242 non-null int64\n",
      "Common_type          45242 non-null int64\n",
      "TERM                 45242 non-null int64\n",
      "FSA                  45242 non-null object\n",
      "AGE RANGE            45242 non-null object\n",
      "GENDER               45242 non-null object\n",
      "INCOME               45242 non-null float64\n",
      "INCOME TYPE          45242 non-null int64\n",
      "NAICS CODE           45242 non-null object\n",
      "CREDIT SCORE         45242 non-null int64\n",
      "RESULT               45242 non-null int64\n",
      "PPM                  45242 non-null int64\n",
      "MPAYMENT             45242 non-null int64\n",
      "GDS_band             45242 non-null category\n",
      "LTV_band             45242 non-null category\n",
      "AGE                  45242 non-null int64\n",
      "Creditscore_band     45242 non-null category\n",
      "LTI                  45242 non-null float64\n",
      "PTI                  45242 non-null float64\n",
      "ENDAGE               45242 non-null float64\n",
      "dtypes: category(3), float64(11), int64(12), object(5)\n",
      "memory usage: 11.4+ MB\n"
     ]
    },
    {
     "data": {
      "text/plain": [
       "None"
      ]
     },
     "metadata": {},
     "output_type": "display_data"
    },
    {
     "name": "stdout",
     "output_type": "stream",
     "text": [
      "----------------------------------------------------------------------------------------------------\n",
      "Test data info:\n",
      "<class 'pandas.core.frame.DataFrame'>\n",
      "RangeIndex: 15214 entries, 0 to 15213\n",
      "Data columns (total 28 columns):\n",
      "Unique_ID            15214 non-null object\n",
      "MORTGAGE NUMBER      15214 non-null int64\n",
      "PROPERTY VALUE       15214 non-null float64\n",
      "MORTGAGE PAYMENT     15214 non-null int64\n",
      "GDS                  15214 non-null float64\n",
      "LTV                  15214 non-null float64\n",
      "TDS                  15214 non-null float64\n",
      "AMORTIZATION         15214 non-null float64\n",
      "MORTGAGE AMOUNT      15214 non-null float64\n",
      "RATE                 15214 non-null float64\n",
      "Purchase             15214 non-null int64\n",
      "PAYMENT FREQUENCY    15214 non-null int64\n",
      "Common_type          15214 non-null int64\n",
      "TERM                 15214 non-null int64\n",
      "FSA                  15214 non-null object\n",
      "AGE RANGE            15214 non-null object\n",
      "GENDER               15214 non-null object\n",
      "INCOME               15214 non-null float64\n",
      "INCOME TYPE          15214 non-null int64\n",
      "NAICS CODE           15214 non-null object\n",
      "CREDIT SCORE         15214 non-null int64\n",
      "RESULT               0 non-null float64\n",
      "PPM                  15214 non-null int64\n",
      "MPAYMENT             15214 non-null int64\n",
      "AGE                  15214 non-null int64\n",
      "LTI                  15214 non-null float64\n",
      "PTI                  15214 non-null float64\n",
      "ENDAGE               15214 non-null float64\n",
      "dtypes: float64(12), int64(11), object(5)\n",
      "memory usage: 3.3+ MB\n"
     ]
    },
    {
     "data": {
      "text/plain": [
       "None"
      ]
     },
     "metadata": {},
     "output_type": "display_data"
    }
   ],
   "source": [
    "# Briefly explore the features of our modified data\n",
    "print('Train data info:')\n",
    "display(train_raw.info())\n",
    "print(splitline)\n",
    "print('Test data info:')\n",
    "display(test_raw.info())"
   ]
  },
  {
   "cell_type": "markdown",
   "metadata": {},
   "source": [
    "### Choice of features for the final model"
   ]
  },
  {
   "cell_type": "code",
   "execution_count": 79,
   "metadata": {},
   "outputs": [],
   "source": [
    "# Select similar features in train and test set, and split target and features in train set\n",
    "X = train_raw[['RATE', 'Purchase', 'LTI', 'Common_type', 'PROPERTY VALUE', \\\n",
    "                'MPAYMENT', 'PAYMENT FREQUENCY', 'PTI', 'ENDAGE']].copy()\n",
    "X_test = test_raw[['RATE', 'Purchase', 'LTI', 'Common_type', 'PROPERTY VALUE', \\\n",
    "                    'MPAYMENT', 'PAYMENT FREQUENCY', 'PTI', 'ENDAGE']].copy()\n",
    "y = train_raw['RESULT'].copy()"
   ]
  },
  {
   "cell_type": "markdown",
   "metadata": {},
   "source": [
    "### Model 1: Logistic regression\n",
    "Most ML models have **hyperparameters** – parameters that should be specified before fitting the model. The process of choosing optimal hyperparameters is called **hyperparameters tuning**, and that's exactly what I do here.\n",
    "\n",
    "Let me introduce another concept – **regularization**. Regularization is the process of making a model more able to catch general trends instead of train-specific. 'C' hyperparameter in logistic regression is responsible for it. Low C-values lead to lower train score and higher test score, because the model becomes able to catch general trends better. However, excessively low c-values will make a model not able to catch any trends at all.\n",
    "\n",
    "In the following cell I tune logistic regression's key hyperparameter, c-value, and predict the target variable values for the test set based on the optimal model.\n",
    "\n",
    "Also, before running it, I'd like to specify that in this competition the **assessment criterion is f1_macro**.\n",
    "The **F1** score can be interpreted as a weighted average of the precision and recall, where an F1 score reaches its best value at 1 and worst score at 0. The relative contribution of precision and recall to the F1 score are equal. The formula for the F1 score is:\n",
    "\n",
    "F1 = 2 * (precision * recall) / (precision + recall)"
   ]
  },
  {
   "cell_type": "code",
   "execution_count": 80,
   "metadata": {},
   "outputs": [
    {
     "data": {
      "image/png": "[encoded data removed]",
      "text/plain": [
       "<Figure size 432x288 with 1 Axes>"
      ]
     },
     "metadata": {
      "image/png": {
       "height": 277,
       "width": 406
      },
      "needs_background": "light"
     },
     "output_type": "display_data"
    },
    {
     "name": "stdout",
     "output_type": "stream",
     "text": [
      "Optimal c-value:  5\n",
      "Average f1_macro for logistic regression:  0.44\n"
     ]
    }
   ],
   "source": [
    "# Import packages\n",
    "from sklearn.linear_model import LogisticRegression\n",
    "from sklearn.model_selection import cross_val_score\n",
    "\n",
    "# Define an empty list to store f1scores for different hyperparameters\n",
    "f1scores = list()\n",
    "\n",
    "# Values of C to be checked\n",
    "C_values = [0.1, 0.2, 0.3, 0.4, 0.5, 1, 2, 5, 10]\n",
    "\n",
    "# Loop over C values to find an optimal\n",
    "for C_value in C_values:\n",
    "    \n",
    "    # Create LogisticRegression object\n",
    "    logreg_foropt = LogisticRegression(solver = 'liblinear', penalty = 'l1', C = C_value, max_iter=1000)\n",
    "    \n",
    "    # Fit it to the cross validator\n",
    "    cv_results_list_logreg = cross_val_score(logreg_foropt, X, y, cv = 5, scoring = 'f1_macro')\n",
    "    \n",
    "    # Compute the mean f1_macro score\n",
    "    avgf1 = np.mean(cv_results_list_logreg)\n",
    "    \n",
    "    # Append this mean to the list of f1 scores\n",
    "    f1scores.append(avgf1)\n",
    "    \n",
    "# Plot the results\n",
    "plt.plot(C_values, f1scores)\n",
    "plt.title('C-value optimization')\n",
    "plt.ylabel('F1 score')\n",
    "plt.xlabel('C value')\n",
    "plt.show()\n",
    "\n",
    "# Print the value of C-hyperparameter which was found optimal\n",
    "optimalC = C_values[f1scores.index(max(f1scores))]\n",
    "print('Optimal c-value: ', optimalC)\n",
    "\n",
    "# Create logistic regression with our optimal hyperparameter\n",
    "logreg = LogisticRegression(solver = 'liblinear', penalty = 'l1', C = optimalC, max_iter=1000)\n",
    "\n",
    "# Calculate its cross validation score\n",
    "cv_logreg = cross_val_score(logreg, X, y, cv = 5, scoring = 'f1_macro')\n",
    "avgf1_logreg = np.mean(cv_logreg)\n",
    "print('Average f1_macro for logistic regression: ', round(avgf1_logreg, 2))\n",
    "\n",
    "# Fit the model to our train data\n",
    "logreg.fit(X, y)\n",
    "\n",
    "# Predict target variable values for the test set\n",
    "y_pred_logreg = logreg.predict(X_test)"
   ]
  },
  {
   "cell_type": "markdown",
   "metadata": {},
   "source": [
    "### Model 2: Decision Tree Classifier\n",
    "In this classificator I'll tune 2 hyperparameters: criterion and max_depth of the tree. The instrument for tuning more that 1 hyperparameter is called **Grid Search**, and I apply it here:"
   ]
  },
  {
   "cell_type": "code",
   "execution_count": 81,
   "metadata": {},
   "outputs": [
    {
     "name": "stdout",
     "output_type": "stream",
     "text": [
      "Best CV params {'criterion': 'gini', 'max_depth': 30}\n",
      "Average f1_macro for decision tree:  0.53\n"
     ]
    }
   ],
   "source": [
    "# Import DecisionTreeClassifier\n",
    "from sklearn.tree import DecisionTreeClassifier\n",
    "\n",
    "# Initialize a standard classifier\n",
    "dt_foropt = DecisionTreeClassifier()\n",
    "\n",
    "# Import GridSearchCV package\n",
    "from sklearn.model_selection import GridSearchCV\n",
    "\n",
    "# Instantiate the GridSearchCV object and run the search\n",
    "parameters_dt = {'criterion':['gini', 'entropy'],\n",
    "                 'max_depth': np.arange(10,110,10)}\n",
    "\n",
    "searcher_dt = GridSearchCV(dt_foropt, parameters_dt, cv = 5, scoring = 'f1_macro')\n",
    "searcher_dt.fit(X, y)\n",
    "\n",
    "# Report the best parameters and the corresponding score\n",
    "print(\"Best CV params\", searcher_dt.best_params_)\n",
    "\n",
    "# Initialize a classifier with optimal parameters\n",
    "dt = DecisionTreeClassifier(criterion = searcher_dt.best_params_['criterion'],\n",
    "                            max_depth = searcher_dt.best_params_['max_depth'],\n",
    "                            class_weight = 'balanced')\n",
    "\n",
    "# Evaluate it by f1_macro\n",
    "cv_dt = cross_val_score(dt, X, y, cv = 5, scoring = 'f1_macro')\n",
    "avgf1_dt = np.mean(cv_dt)\n",
    "print('Average f1_macro for decision tree: ', round(avgf1_dt, 2))\n",
    "\n",
    "# Fit the model to our train data\n",
    "dt.fit(X, y)\n",
    "\n",
    "# Predict target variable values for the test set\n",
    "y_pred_dt = dt.predict(X_test)"
   ]
  },
  {
   "cell_type": "markdown",
   "metadata": {},
   "source": [
    "### Model 3: Support Vector Classifier\n",
    "SVC also has many hyperparameters, but the grid search in this model turned out to be very time-consuming in CPU-based calculations. Unfortunately, I didn't have time to set up cloud computations when I was participating in this competition, so I fitter a SVC with standard hyperparameters."
   ]
  },
  {
   "cell_type": "code",
   "execution_count": 82,
   "metadata": {},
   "outputs": [
    {
     "name": "stdout",
     "output_type": "stream",
     "text": [
      "Average f1_macro for support vector machines:  0.45\n"
     ]
    }
   ],
   "source": [
    "# Import SVC from scikit learn\n",
    "from sklearn.svm import SVC\n",
    "\n",
    "# Initialize a classifier with gamma = 1\n",
    "svc = SVC(gamma = 1)\n",
    "\n",
    "# Evaluate it by f1_macro\n",
    "cv_svc = cross_val_score(svc, X, y, cv = 5, scoring = 'f1_macro')\n",
    "avgf1_svc = np.mean(cv_svc)\n",
    "print('Average f1_macro for support vector machines: ', round(avgf1_svc, 2))\n",
    "\n",
    "# Fit the model to our train data\n",
    "svc.fit(X, y)\n",
    "\n",
    "# Predict target variable values for the test set\n",
    "y_pred_svc = svc.predict(X_test)"
   ]
  },
  {
   "cell_type": "markdown",
   "metadata": {},
   "source": [
    "# Preparing the final submission\n",
    "Based on f1_macro criterion, DecisionTreeClassifier was the best model among three. Its score was 0.08 higher than that of two other models, which can be considered as significant outperformance.\n",
    "I will use only the DecisionTreeClassifier's result for the final submission, without any ensembling. The reason for that is that if I use VotingClassifier, for example, and include the most frequent forecast of the target among three models, two bad (_bad_ from the perspective of f1_score, in this specific case only) models will neutralize the DecisionTreeClassifier's predictions."
   ]
  },
  {
   "cell_type": "code",
   "execution_count": 83,
   "metadata": {},
   "outputs": [],
   "source": [
    "# Import the submission format sample provided by organizators\n",
    "example = pd.read_csv('/Users/urij/Desktop/CS/CAXMortgage/CAX_MortgageModeling_SubmissionFormat.csv')\n",
    "\n",
    "# Create a dataframe with submission's data\n",
    "submission = pd.DataFrame({\n",
    "             \"Unique_ID\": example[\"Unique_ID\"],\n",
    "             \"Result_Predicted\": y_pred_dt\n",
    "             })\n",
    "\n",
    "# Map the target feature back: from binary to categorical\n",
    "submission['Result_Predicted'] = submission['Result_Predicted'].map({1: 'FUNDED', 0: 'NOT FUNDED'})\n",
    "\n",
    "# Export the resulting dataframe as .csv\n",
    "submission.to_csv('/Users/urij/Desktop/CS/CAXMortgage/YF_v22_dt_1405.csv', index = False)"
   ]
  },
  {
   "cell_type": "markdown",
   "metadata": {},
   "source": [
    "That's all! Please, refer to Readme to see my conclusion regarding participating in this competition!"
   ]
  }
 ],
 "metadata": {
  "kernelspec": {
   "display_name": "Python 3",
   "language": "python",
   "name": "python3"
  },
  "language_info": {
   "codemirror_mode": {
    "name": "ipython",
    "version": 3
   },
   "file_extension": ".py",
   "mimetype": "text/x-python",
   "name": "python",
   "nbconvert_exporter": "python",
   "pygments_lexer": "ipython3",
   "version": "3.6.4"
  }
 },
 "nbformat": 4,
 "nbformat_minor": 4
}
